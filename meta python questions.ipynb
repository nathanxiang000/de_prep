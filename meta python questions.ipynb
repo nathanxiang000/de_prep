{
 "cells": [
  {
   "cell_type": "markdown",
   "metadata": {},
   "source": [
    "# Nathan Meta Python questions"
   ]
  },
  {
   "cell_type": "markdown",
   "metadata": {},
   "source": [
    "# Big O Notation\n",
    "\n",
    "Big O notation describes the upper bound of an algorithm's time or space complexity in the worst case scenario as the input size grows toward infinity.\n",
    "\n",
    "## Common Big O Complexities\n",
    "\n",
    "| Complexity | Name | Description | Examples |\n",
    "|------------|------|-------------|----------|\n",
    "| O(1) | Constant | Runtime doesn't change with input size | Array access, hash table insertion/lookup |\n",
    "| O(log n) | Logarithmic | Runtime grows logarithmically with input | Binary search, balanced BST operations |\n",
    "| O(n) | Linear | Runtime grows linearly with input | Linear search, traversing an array |\n",
    "| O(n log n) | Linearithmic | Runtime grows by n log n | Efficient sorting (merge sort, quicksort) |\n",
    "| O(n²) | Quadratic | Runtime grows with square of input | Nested loops, bubble/insertion sort |\n",
    "| O(2ⁿ) | Exponential | Runtime doubles with each addition to input | Recursive Fibonacci, generating all subsets |\n",
    "| O(n!) | Factorial | Runtime grows factorially | Generating all permutations |\n",
    "\n",
    "## Complexity Hierarchy\n",
    "O(1) < O(log n) < O(n) < O(n log n) < O(n²) < O(2ⁿ) < O(n!)\n",
    "\n",
    "## Code Examples\n",
    "\n",
    "### O(1) - Constant Time\n",
    "```python\n",
    "def get_first_element(arr):\n",
    "    return arr[0]  # Always takes the same time regardless of array size\n",
    "```\n",
    "\n",
    "### O(log n) - Logarithmic Time\n",
    "```python\n",
    "def binary_search(arr, target):\n",
    "    left, right = 0, len(arr) - 1\n",
    "    while left <= right:\n",
    "        mid = (left + right) // 2\n",
    "        if arr[mid] == target:\n",
    "            return mid\n",
    "        elif arr[mid] < target:\n",
    "            left = mid + 1\n",
    "        else:\n",
    "            right = mid - 1\n",
    "    return -1\n",
    "```\n",
    "\n",
    "### O(n) - Linear Time\n",
    "```python\n",
    "def find_max(arr):\n",
    "    max_val = arr[0]\n",
    "    for num in arr:  # Loop runs n times\n",
    "        if num > max_val:\n",
    "            max_val = num\n",
    "    return max_val\n",
    "```\n",
    "\n",
    "### O(n log n) - Linearithmic Time\n",
    "```python\n",
    "def merge_sort(arr):\n",
    "    if len(arr) <= 1:\n",
    "        return arr\n",
    "    mid = len(arr) // 2\n",
    "    left = merge_sort(arr[:mid])\n",
    "    right = merge_sort(arr[mid:])\n",
    "    return merge(left, right)\n",
    "```\n",
    "\n",
    "### O(n²) - Quadratic Time\n",
    "```python\n",
    "def bubble_sort(arr):\n",
    "    n = len(arr)\n",
    "    for i in range(n):\n",
    "        for j in range(0, n - i - 1):  # Nested loops → n²\n",
    "            if arr[j] > arr[j + 1]:\n",
    "                arr[j], arr[j + 1] = arr[j + 1], arr[j]\n",
    "    return arr\n",
    "```\n",
    "\n",
    "### O(2ⁿ) - Exponential Time\n",
    "```python\n",
    "def fibonacci(n):\n",
    "    if n <= 1:\n",
    "        return n\n",
    "    return fibonacci(n-1) + fibonacci(n-2)  # Each call branches into two\n",
    "```"
   ]
  },
  {
   "cell_type": "markdown",
   "metadata": {},
   "source": [
    "## Be careful about when you add and when you multiply\n",
    "### Sequential: addition\n",
    "### Nested: multiplication"
   ]
  },
  {
   "cell_type": "markdown",
   "metadata": {},
   "source": [
    "\n",
    "# Python f-Strings (Formatted String Literals)\n",
    "\n",
    "## **Basic Usage**\n",
    "Use `f\"\"` to insert variables into strings:\n",
    "```python\n",
    "name = \"Alice\"\n",
    "age = 25\n",
    "print(f\"My name is {name} and I am {age} years old.\")\n",
    "# Output: My name is Alice and I am 25 years old.\n",
    "```\n",
    "\n",
    "\n",
    "## **Expressions Inside f-Strings**\n",
    "You can perform calculations inside `{}`:\n",
    "```python\n",
    "a, b = 10, 20\n",
    "print(f\"Sum of {a} and {b} is {a + b}.\")\n",
    "# Output: Sum of 10 and 20 is 30.\n",
    "```\n",
    "\n",
    "## **Formatting Numbers**\n",
    "```python\n",
    "pi = 3.1415926535\n",
    "print(f\"Pi rounded to 2 decimal places: {pi:.2f}\")\n",
    "# Output: Pi rounded to 2 decimal places: 3.14\n",
    "```\n",
    "\n",
    "## **Padding and Alignment**\n",
    "```python\n",
    "num = 42\n",
    "print(f\"Left aligned:  |{num:<5}|\")\n",
    "print(f\"Right aligned: |{num:>5}|\")\n",
    "print(f\"Centered:      |{num:^5}|\")\n",
    "# Output:\n",
    "# Left aligned:  |42   |\n",
    "# Right aligned: |   42|\n",
    "# Centered:      | 42  |\n",
    "```\n",
    "\n",
    "## **Hex, Binary, and Octal Formatting**\n",
    "```python\n",
    "num = 255\n",
    "print(f\"Hex: {num:x}, Binary: {num:b}, Octal: {num:o}\")\n",
    "# Output: Hex: ff, Binary: 11111111, Octal: 377\n",
    "```"
   ]
  },
  {
   "cell_type": "markdown",
   "metadata": {},
   "source": [
    "## Using `Counter` from Python's `collections` Module\n",
    "\n",
    "The `Counter` is a powerful tool for counting hashable objects in Python. Here are several common use cases:\n",
    "\n",
    "### Basic Counting\n",
    "\n",
    "```python\n",
    "from collections import Counter\n",
    "\n",
    "# Count occurrences of elements in a list\n",
    "fruits = ['apple', 'orange', 'apple', 'banana', 'orange', 'apple']\n",
    "fruit_count = Counter(fruits)\n",
    "print(fruit_count)  # Counter({'apple': 3, 'orange': 2, 'banana': 1})\n",
    "\n",
    "# Count characters in a string\n",
    "word = \"mississippi\"\n",
    "char_count = Counter(word)\n",
    "print(char_count)  # Counter({'i': 4, 's': 4, 'p': 2, 'm': 1})\n",
    "```\n",
    "\n",
    "### Common Methods\n",
    "\n",
    "```python\n",
    "from collections import Counter\n",
    "\n",
    "# most_common() - Get most common elements\n",
    "counter = Counter('abracadabra')\n",
    "print(counter.most_common(3))  # [('a', 5), ('b', 2), ('r', 2)]\n",
    "\n",
    "# elements() - Iterator over elements repeating as many times as count\n",
    "c = Counter(a=2, b=3)\n",
    "print(list(c.elements()))  # ['a', 'a', 'b', 'b', 'b']\n",
    "\n",
    "# update() - Add counts from another counter\n",
    "c1 = Counter(['a', 'b'])\n",
    "c1.update(['b', 'c'])\n",
    "print(c1)  # Counter({'b': 2, 'a': 1, 'c': 1})\n",
    "```"
   ]
  },
  {
   "cell_type": "markdown",
   "metadata": {},
   "source": [
    "## String Methods"
   ]
  },
  {
   "cell_type": "markdown",
   "metadata": {},
   "source": [
    "Useful Python string methods that return True or False:\n",
    "\n",
    "🔤 Character type checks:\n",
    "\n",
    "- `.isalpha()` – All characters are alphabetic (A–Z, a–z)\n",
    "- `.isdigit()` – All characters are digits (0–9)\n",
    "- `.isalnum()` – All characters are alphanumeric (letters or digits)\n",
    "- `.isdecimal()` – All characters are decimal characters (subset of `.isdigit()`)\n",
    "- `.isnumeric()` – All characters are numeric (includes digits, fractions, superscripts)\n",
    "- `.islower()` – All cased characters are lowercase\n",
    "- `.isupper()` – All cased characters are uppercase\n",
    "- `.istitle()` – The string is in title case (e.g., \"Hello World\")\n",
    "- `.isspace()` – All characters are whitespace (spaces, tabs, newlines)\n",
    "- `.isprintable()` – All characters are printable (excludes control chars like `\\x0b`)\n",
    "- `.isascii()` – All characters are ASCII (0–127)\n",
    "\n",
    "🧪 Examples:\n",
    "\n",
    "```python\n",
    "\"hello\".islower()        # True\n",
    "\"123\".isnumeric()        # True\n",
    "\"⅓¼\".isnumeric()         # True, even though these aren't 0–9\n",
    "\"Hello World\".istitle()  # True\n",
    "\"\\n\\t\".isspace()         # True\n",
    "\"π\".isascii()            # False\n",
    "```"
   ]
  },
  {
   "cell_type": "markdown",
   "metadata": {},
   "source": [
    "## Python Class\n",
    "``` python\n",
    "class Dog:\n",
    "    species = \"Canis familiaris\"  # Class attribute (shared by all instances)\n",
    "\n",
    "    def __init__(self, name, age):  # Constructor method\n",
    "        self.name = name  # Instance attribute (unique to each object)\n",
    "        self.age = age\n",
    "\n",
    "    def bark(self):  # Method\n",
    "        return f\"{self.name} says woof!\"\n",
    "\n",
    "buddy = Dog(\"Buddy\", 5)\n",
    "print(buddy.name)  # Output: Buddy\n",
    "print(buddy.bark())  # Output: Buddy says woof!\n",
    "\n",
    "```\n"
   ]
  },
  {
   "cell_type": "markdown",
   "metadata": {},
   "source": [
    "### Challenge: Create a UserProfile class with external input handling"
   ]
  },
  {
   "cell_type": "code",
   "execution_count": 29,
   "metadata": {},
   "outputs": [
    {
     "name": "stdout",
     "output_type": "stream",
     "text": [
      "Hello nathan, your email is nathan@gmail.com!\n",
      "2000\n",
      "Error: Invalid email format\n"
     ]
    }
   ],
   "source": [
    "class UserProfile:  # PascalCase naming\n",
    "    def __init__(self, username: str, email: str, age: int):\n",
    "        if not isinstance(age, int) or age < 0:\n",
    "            raise ValueError(\"Age must be a positive integer\")\n",
    "        if \"@\" not in email:\n",
    "            raise ValueError(\"Invalid email format\")\n",
    "        \n",
    "        self.username = username\n",
    "        self.email = email\n",
    "        self.age = age\n",
    "\n",
    "    def update_email(self, new_email: str):\n",
    "        if \"@\" not in new_email:\n",
    "            raise ValueError(\"Invalid email format\")\n",
    "        self.email = new_email\n",
    "\n",
    "    def birth_year(self) -> int:\n",
    "        return 2025 - self.age  # Use datetime.datetime.now().year for real-world use\n",
    "\n",
    "    def greet(self) -> str:\n",
    "        return f\"Hello {self.username}, your email is {self.email}!\"\n",
    "\n",
    "# Test with validation\n",
    "try:\n",
    "    u = UserProfile('nathan', 'nathan@gmail.com', 25)\n",
    "    print(u.greet())  # Hello nathan, your email is nathan@gmail.com!\n",
    "    print(u.birth_year())  # 2000\n",
    "    u.update_email('nathan123gmail.com')\n",
    "    print(u.greet())  # Hello nathan, your email is nathan123@gmail.com!\n",
    "    \n",
    "    # Test invalid email\n",
    "    u.update_email('invalid-email')  # ✅ Raises ValueError\n",
    "except ValueError as e:\n",
    "    print(f\"Error: {e}\")\n"
   ]
  },
  {
   "cell_type": "markdown",
   "metadata": {},
   "source": [
    "### Type hints\n",
    "In Python, the use of -> None, -> float, and num: int are type hints (also called type annotations).\n",
    "They dont really affect code execution, just for readability."
   ]
  },
  {
   "cell_type": "markdown",
   "metadata": {},
   "source": [
    "### 295. Find Median from Data Stream"
   ]
  },
  {
   "cell_type": "code",
   "execution_count": 27,
   "metadata": {},
   "outputs": [
    {
     "name": "stdout",
     "output_type": "stream",
     "text": [
      "[1, 1, 2, 3, 5, 23, 45, 100]\n",
      "4.0\n"
     ]
    }
   ],
   "source": [
    "import bisect\n",
    "class medianstream:\n",
    "    def __init__(self):\n",
    "        self.nums = [] ## self.nums is a list attribute of the class instance.\n",
    "        ## You access it without parentheses because you are referring to the list itself\n",
    "    ###, not calling a function.\n",
    "    def addnum(self,num:int):\n",
    "        bisect.insort(self.nums,num)\n",
    "    def findmedian(self):\n",
    "        n = len(self.nums)\n",
    "        if n%2 == 1:\n",
    "            return self.nums[n//2]\n",
    "        else:\n",
    "            return (self.nums[n//2] + self.nums[n//2 - 1])/2 \n",
    "            ## findmedian is a method (a function defined inside a class).\n",
    "stream = medianstream()\n",
    "for i in [1,2,1,3,45,5,23,100]:\n",
    "    stream.addnum(i)\n",
    "print(stream.nums)\n",
    "print(stream.findmedian())"
   ]
  },
  {
   "cell_type": "markdown",
   "metadata": {},
   "source": [
    "### 703. Kth Largest Element in a Stream"
   ]
  },
  {
   "cell_type": "code",
   "execution_count": null,
   "metadata": {},
   "outputs": [
    {
     "name": "stdout",
     "output_type": "stream",
     "text": [
      "[1, 2, 3]\n",
      "[1, 2, 3, 5]\n"
     ]
    }
   ],
   "source": [
    "import bisect\n",
    "class kthlargest:\n",
    "    def __init__(self,k,nums):\n",
    "        self.nth = k\n",
    "        self.nums = sorted(nums)\n",
    "    def addnum(self,val):\n",
    "        bisect.insort(self.nums,val)\n",
    "        n = len(self.nums)\n",
    "        if n < self.nth:\n",
    "            return None\n",
    "        else:\n",
    "            return self.nums[n - self.nth]\n",
    "l = kthlargest(3,[1,3,2])\n",
    "print(l.nums)\n",
    "l.addnum(5)\n",
    "print(l.nums)"
   ]
  },
  {
   "cell_type": "code",
   "execution_count": null,
   "metadata": {},
   "outputs": [],
   "source": [
    "## python indexing:\n",
    "## my_list[len(my_list)-k:]  == my_list[-k:]\n",
    "\n",
    "## ::\n",
    "my_list = [1, 2, 3, 4, 5]\n",
    "print(my_list[::2])   # Output: [1, 3, 5]\n",
    "print(my_list[::-1])  # Output: [5, 4, 3, 2, 1]\n",
    "print(my_list[:])     # Output: [1, 2, 3, 4, 5]\n"
   ]
  },
  {
   "cell_type": "code",
   "execution_count": 19,
   "metadata": {},
   "outputs": [
    {
     "name": "stdout",
     "output_type": "stream",
     "text": [
      "False\n"
     ]
    }
   ],
   "source": [
    "from collections import deque\n",
    "que = deque()\n",
    "que.append(True)\n",
    "que.append(True)\n",
    "que.append(False)\n",
    "print(all(que))"
   ]
  },
  {
   "cell_type": "markdown",
   "metadata": {},
   "source": [
    "### 1472. Design Browser History\n"
   ]
  },
  {
   "cell_type": "code",
   "execution_count": null,
   "metadata": {},
   "outputs": [
    {
     "name": "stdout",
     "output_type": "stream",
     "text": [
      "['abc.com']\n",
      "['abc.com', 'cc.com', 'oo.com']\n",
      "2\n"
     ]
    },
    {
     "data": {
      "text/plain": [
       "'oo.com'"
      ]
     },
     "execution_count": 15,
     "metadata": {},
     "output_type": "execute_result"
    }
   ],
   "source": [
    "class BrowserHistory:\n",
    "\n",
    "    def __init__(self, homepage: str):\n",
    "        self.history = [homepage]\n",
    "        self.current = 0\n",
    "\n",
    "    def visit(self, url: str) -> None:\n",
    "        self.history = self.history[:self.current+1] + [url]\n",
    "        self.current += 1\n",
    "\n",
    "    def back(self, steps: int) -> str:\n",
    "        self.current = max(0, self.current - steps)\n",
    "        return self.history[self.current]\n",
    "\n",
    "    def forward(self, steps: int) -> str:\n",
    "        self.current = min(len(self.history)-1, self.current + steps)\n",
    "        return self.history[self.current]\n",
    "\n",
    "browse = BrowserHistory('abc.com')\n",
    "print(browse.history)\n",
    "browse.visit('cc.com')\n",
    "browse.visit('oo.com')\n",
    "print(browse.history)\n",
    "print(browse.current)\n",
    "browse.back(1)\n",
    "browse.forward(3)"
   ]
  },
  {
   "cell_type": "markdown",
   "metadata": {},
   "source": [
    "# Example Questions"
   ]
  },
  {
   "cell_type": "markdown",
   "metadata": {},
   "source": [
    "## Two Pointer Technique"
   ]
  },
  {
   "cell_type": "markdown",
   "metadata": {},
   "source": [
    "### Two Sum\n",
    "given a list of integers, and a target, return any 2 integer combo whose sum == target"
   ]
  },
  {
   "cell_type": "code",
   "execution_count": null,
   "metadata": {},
   "outputs": [],
   "source": [
    "def twosum(somelist, target):\n",
    "    seen = {}  # Will store value -> index\n",
    "    for i in range(len(somelist)):\n",
    "        current = somelist[i]\n",
    "        complement = target - current\n",
    "        \n",
    "        if complement in seen:\n",
    "            print(f\"Found pair: {current} and {complement}\")\n",
    "            return [seen[complement], i]  # Return indices of the two numbers\n",
    "        else:\n",
    "            seen[current] = i  # Store the actual number and its index\n",
    "            \n",
    "list_a = [1, 4, 6, 7, 10, 3]\n",
    "target = 10\n",
    "twosum(list_a, target)"
   ]
  },
  {
   "cell_type": "code",
   "execution_count": null,
   "metadata": {},
   "outputs": [],
   "source": [
    "def two_sum(nums, target):\n",
    "    seen = {}\n",
    "    for i, num in enumerate(nums):\n",
    "        complement = target - num\n",
    "        if complement in seen:\n",
    "            return [seen[complement], i]\n",
    "        seen[num] = i\n",
    "    return []  # No solution found\n",
    "\n",
    "numbers = [1, 4, 6, 7, 10, 3]\n",
    "target = 10\n",
    "print(two_sum(numbers, target))"
   ]
  },
  {
   "cell_type": "markdown",
   "metadata": {},
   "source": [
    "### Given 2 sorted and distinct arrays, find the number of elements in common\n",
    "Because it is already sorted, so you should continue to compare to the same value until they are equal."
   ]
  },
  {
   "cell_type": "code",
   "execution_count": null,
   "metadata": {},
   "outputs": [],
   "source": [
    "def common(arr1, arr2):\n",
    "    # Initialize pointers for both arrays and counter for common elements\n",
    "    i, j = 0, 0\n",
    "    count = 0\n",
    "\n",
    "    # Traverse both arrays simultaneously until one array is exhausted\n",
    "    while i < len(arr1) and j < len(arr2):\n",
    "        if arr1[i] == arr2[j]:  # Found a common element\n",
    "            print(arr1[i])  # Print the common element\n",
    "            count += 1      # Increment counter for common elements\n",
    "            i += 1         # Move both pointers forward\n",
    "            j += 1\n",
    "        elif arr1[i] < arr2[j]:  # Move the pointer for the smaller element\n",
    "            i += 1               # Move arr1 pointer forward\n",
    "        else:\n",
    "            j += 1              # Move arr2 pointer forward\n",
    "\n",
    "    return count  # Return total count of common elements\n",
    "\n",
    "a = [1, 2, 4, 6, 7]\n",
    "b = [2, 4, 7, 8, 9, 10]\n",
    "\n",
    "common(a, b)"
   ]
  },
  {
   "cell_type": "markdown",
   "metadata": {},
   "source": [
    "### What if they are not sorted and have duplicates? and you need to find the kth smallest common element?"
   ]
  },
  {
   "cell_type": "code",
   "execution_count": null,
   "metadata": {},
   "outputs": [],
   "source": [
    "def common(arr1,arr2, k):\n",
    "    arr1_clean = [i for i in set(arr1)]\n",
    "    arr2_clean = [i for i in set(arr2)]\n",
    "    i,j = 0,0\n",
    "    count = 0\n",
    "    while i < len(arr1_clean) and j < len(arr2_clean):\n",
    "        num1 = arr1_clean[i]\n",
    "        num2 = arr2_clean[j]\n",
    "        if num1 == num2:\n",
    "            count += 1\n",
    "            print(\"common element found: \",num1)\n",
    "            if count == k:\n",
    "                return[f\"{k}th common element found: \".format(k),num1]\n",
    "            i += 1\n",
    "            j += 1\n",
    "        elif num1 < num2:\n",
    "            i += 1\n",
    "        else: \n",
    "            j += 1\n",
    "            \n",
    "arr1 = [1, 2, 2, 3, 4, 4, 5, 6]\n",
    "arr2 = [2, 2, 4,5,8, 4, 4, 6, 7]\n",
    "k = 4\n",
    "common(arr1,arr2,k)"
   ]
  },
  {
   "cell_type": "markdown",
   "metadata": {},
   "source": [
    "### 76. Minimum Window Substring HARD\n",
    "Problem Description:\n",
    "Given two strings s and t, return the minimum window substring of s such that every character in t (including duplicates) is included in the window. If there is no such substring, return an empty string \"\".​"
   ]
  },
  {
   "cell_type": "code",
   "execution_count": null,
   "metadata": {},
   "outputs": [],
   "source": [
    "s = \"ADOBECODEBANC\"\n",
    "t = \"ABC\"\n",
    "#output = \"BANC\"\n",
    "def slide(string, target):\n",
    "    # Edge cases\n",
    "    if not string or not target:\n",
    "        return \"\"\n",
    "    \n",
    "    # Create Counter object for target string\n",
    "    target_count = Counter(target)\n",
    "    required = len(target_count)  # Number of unique chars needed\n",
    "    \n",
    "    # Initialize variables\n",
    "    formed = 0  # Counter for matched characters\n",
    "    window_counts = Counter()\n",
    "    \n",
    "    left, right = 0, 0\n",
    "    min_len = float(\"inf\")\n",
    "    result = \"\"\n",
    "    \n",
    "    while right < len(string):\n",
    "        # Add the character on the right to the window\n",
    "        char = string[right]\n",
    "        window_counts[char] += 1\n",
    "        \n",
    "        # If we've matched a character from target completely\n",
    "        if char in target_count and window_counts[char] == target_count[char]:\n",
    "            formed += 1\n",
    "        \n",
    "        # Try to minimize the window by moving left pointer\n",
    "        while left <= right and formed == required:\n",
    "            char = string[left]\n",
    "            \n",
    "            # Update result if current window is smaller\n",
    "            if right - left + 1 < min_len:\n",
    "                min_len = right - left + 1\n",
    "                result = string[left:right+1]\n",
    "            \n",
    "            # Remove the character at left from window\n",
    "            window_counts[char] -= 1\n",
    "            \n",
    "            # If removing this character makes it unmatched\n",
    "            if char in target_count and window_counts[char] < target_count[char]:\n",
    "                formed -= 1\n",
    "            \n",
    "            left += 1\n",
    "        \n",
    "        right += 1\n",
    "    \n",
    "    return result if min_len != float(\"inf\") else \"\"\n",
    "\n",
    "\n",
    "slide(s,t)"
   ]
  },
  {
   "cell_type": "markdown",
   "metadata": {},
   "source": [
    "### 11. Container With Most Water\n",
    "You are given an integer array height of length n. There are n vertical lines drawn such that the two endpoints of the ith line are (i, 0) and (i, height[i]).\n",
    "\n",
    "Find two lines that together with the x-axis form a container, such that the container contains the most water.\n",
    "\n",
    "Return the maximum amount of water a container can store.\n",
    "\n",
    "Notice that you may not slant the container."
   ]
  },
  {
   "cell_type": "code",
   "execution_count": 472,
   "metadata": {},
   "outputs": [
    {
     "name": "stdout",
     "output_type": "stream",
     "text": [
      "99994700\n",
      "Function took 0.1985 seconds to run\n"
     ]
    }
   ],
   "source": [
    "import random\n",
    "import time\n",
    "\n",
    "height = [random.randint(1, 100) for _ in range(1000000)]\n",
    "## still use the two pointer technique, start from both ends and converge in the middle\n",
    "\n",
    "\n",
    "def maxwater(arr):\n",
    "    n = len(arr)\n",
    "    maxsize =  0\n",
    "    left = 0\n",
    "    right = n -1\n",
    "    while right > left:\n",
    "        size = min(arr[right],arr[left]) * (right - left)\n",
    "        maxsize = max(size,maxsize)\n",
    "        if arr[right] < arr[left]:\n",
    "            right -=1\n",
    "        else:\n",
    "            left +=1\n",
    "    return maxsize\n",
    "start = time.time()       \n",
    "print(maxwater(height))\n",
    "end = time.time()\n",
    "print(f\"Function took {end - start:.4f} seconds to run\")"
   ]
  },
  {
   "cell_type": "markdown",
   "metadata": {},
   "source": [
    "## Deque()\n",
    "``` python\n",
    "# 🔹 What is deque?\n",
    "\n",
    "# deque stands for \"double-ended queue\". It's a special type of list from the\n",
    "# collections module that allows you to efficiently add and remove elements \n",
    "# from both ends (front and back) in O(1) time.\n",
    "\n",
    "from collections import deque\n",
    "\n",
    "# 🔹 Why not just use a list?\n",
    "\n",
    "# Python lists are great, but:\n",
    "# - list.append() is fast (O(1))\n",
    "# - list.pop(0) is slow (O(n)) because it shifts all remaining elements\n",
    "\n",
    "# deque solves this with fast operations on both ends.\n",
    "\n",
    "# 🔹 Common operations\n",
    "\n",
    "dq = deque()\n",
    "\n",
    "dq.append(1)       # Add to the right end → dq = [1]\n",
    "dq.append(2)       # dq = [1, 2]\n",
    "dq.appendleft(0)   # Add to the left end → dq = [0, 1, 2]\n",
    "\n",
    "dq.pop()           # Remove from the right → returns 2 → dq = [0, 1]\n",
    "dq.popleft()       # Remove from the left → returns 0 → dq = [1]\n",
    "\n",
    "# 🔹 Use case: sliding window or \"last K items\"\n",
    "\n",
    "# deque is perfect for problems where you need to track the last K events or items.\n",
    "# For example, adding new items while removing the oldest when a size limit is reached.\n",
    "\n",
    "# 🔹 Other helpful methods\n",
    "\n",
    "len(dq)              # Get current size\n",
    "dq.clear()           # Empty the deque\n",
    "dq.extend([1, 2, 3]) # Add multiple items at once\n",
    "dq[-1]               # Peek at the last item\n",
    "dq[0]                # Peek at the first item\n",
    "\n",
    "# 🔹 Summary: list vs deque\n",
    "\n",
    "# Operation        list        deque\n",
    "# ------------------------------ \n",
    "# append()         O(1)        O(1)\n",
    "# pop()            O(1)        O(1)\n",
    "# insert(0, x)     O(n)        O(1) via appendleft()\n",
    "# pop(0)           O(n)        O(1) via popleft()\n",
    "```"
   ]
  },
  {
   "cell_type": "markdown",
   "metadata": {},
   "source": [
    "### Please note: lookup in deque is slow O(n) but lookup in set or hashtable is fast O(1)"
   ]
  },
  {
   "cell_type": "markdown",
   "metadata": {},
   "source": [
    "### Kaitenzushi\n",
    "There are N N dishes in a row on a kaiten belt, with the i ith dish being of type D i D i ​ . Some dishes may be of the same type as one another. You're very hungry, but you'd also like to keep things interesting. The N N dishes will arrive in front of you, one after another in order, and for each one you'll eat it as long as it isn't the same type as any of the previous K K dishes you've eaten. You eat very fast, so you can consume a dish before the next one gets to you. Any dishes you choose not to eat as they pass will be eaten by others. Determine how many dishes you'll end up eating."
   ]
  },
  {
   "cell_type": "code",
   "execution_count": null,
   "metadata": {},
   "outputs": [],
   "source": [
    "N = 7\n",
    "D = [1, 2, 1, 2, 1, 2, 1]\n",
    "K = 2\n",
    "from collections import deque\n",
    "def sushi(N,D,K):\n",
    "    if N==1:\n",
    "        return 1\n",
    "    else:\n",
    "        dq = deque()\n",
    "        dset = set()\n",
    "        count = 0\n",
    "        for i in range(N):\n",
    "            element = D[i]\n",
    "            if element not in dset:\n",
    "                if len(dset) <K:\n",
    "                    dq.append(element)\n",
    "                    dset.add(element)\n",
    "                    count +=1\n",
    "                else:\n",
    "                    remove = dq.popleft()\n",
    "                    dset.remove(remove) \n",
    "                    ##set.pop() will not necessarily remove the first element so cant use that\n",
    "                    dq.append(element)\n",
    "                    dset.add(element)\n",
    "                    count +=1\n",
    "        return count\n",
    "sushi(N,D,K)"
   ]
  },
  {
   "cell_type": "markdown",
   "metadata": {},
   "source": [
    "## Greedy Algorithm"
   ]
  },
  {
   "cell_type": "markdown",
   "metadata": {},
   "source": [
    "### 一群孩子站成一排，每一个孩子有自己的评分。现在需要给这些孩子发糖果，规则是如果一 个孩子的评分比自己身旁的一个孩子要高，那么这个孩子就必须得到比身旁孩子更多的糖果。所有孩子至少要有一个糖果。求解最少需要多少个糖果。孩子已经站好了，不再排序。"
   ]
  },
  {
   "cell_type": "code",
   "execution_count": 482,
   "metadata": {},
   "outputs": [
    {
     "data": {
      "text/plain": [
       "[[2, 1, 2, 2, 1], 8]"
      ]
     },
     "execution_count": 482,
     "metadata": {},
     "output_type": "execute_result"
    }
   ],
   "source": [
    "# List of ratings for each kid\n",
    "kid = [1,0,3,3,0]\n",
    "\n",
    "def candy(ratings_list):\n",
    "    # Get total number of kids\n",
    "    n = len(ratings_list)\n",
    "    # Initialize array giving 1 candy to each kid\n",
    "    candies = [1] * n\n",
    "    \n",
    "    # Forward pass: Compare with left neighbor\n",
    "    for i in range(1, n):\n",
    "        # If current rating is higher than previous, give one more candy\n",
    "        if ratings_list[i] > ratings_list[i - 1]:\n",
    "            candies[i] = candies[i - 1] + 1\n",
    "            \n",
    "    # Backward pass: Compare with right neighbor        \n",
    "    for i in range(n - 1, 0, -1):\n",
    "        # If previous rating is higher than current, give max of current candies or one more than right neighbor\n",
    "        if ratings_list[i] < ratings_list[i - 1]:\n",
    "            candies[i - 1] = max(candies[i - 1], candies[i] + 1)\n",
    "            \n",
    "    # Return list of candies per kid and total sum\n",
    "    return [candies,sum(candies)]\n",
    "            \n",
    "candy(kid)"
   ]
  },
  {
   "cell_type": "markdown",
   "metadata": {},
   "source": [
    "### 452. Minimum Number of Arrows to Burst Balloons\n",
    "There are some spherical balloons taped onto a flat wall that represents the XY-plane. The balloons are represented as a 2D integer array points where points[i] = [xstart, xend] denotes a balloon whose horizontal diameter stretches between xstart and xend. You do not know the exact y-coordinates of the balloons.\n",
    "\n",
    "Arrows can be shot up directly vertically (in the positive y-direction) from different points along the x-axis. A balloon with xstart and xend is burst by an arrow shot at x if xstart <= x <= xend. There is no limit to the number of arrows that can be shot. A shot arrow keeps traveling up infinitely, bursting any balloons in its path.\n",
    "\n",
    "Given the array points, return the minimum number of arrows that must be shot to burst all balloons."
   ]
  },
  {
   "cell_type": "code",
   "execution_count": 508,
   "metadata": {},
   "outputs": [
    {
     "data": {
      "text/plain": [
       "(2, [[6, 7], [3, 9], [6, 9], [1, 10], [4, 11], [9, 12], [8, 12]])"
      ]
     },
     "execution_count": 508,
     "metadata": {},
     "output_type": "execute_result"
    }
   ],
   "source": [
    "points = [[9,12],[1,10],[4,11],[8,12],[3,9],[6,9],[6,7]]\n",
    "def arrow(arr):\n",
    "    # Get the number of points\n",
    "    n = len(arr)\n",
    "    # Sort the points by their y-coordinate (second element)\n",
    "    arr.sort(key = lambda x: (x[1]))\n",
    "    # Initialize the previous end point with the y-coordinate of the first point\n",
    "    prev_end = arr[0][1]\n",
    "    # Initialize arrow count to 1 (we need at least one arrow)\n",
    "    count = 1\n",
    "    # Iterate through the remaining points\n",
    "    for i in range(1,n):\n",
    "        # If current point's x-coordinate is greater than previous end point\n",
    "        # It means we can't shoot this point with the previous arrow\n",
    "        if arr[i][0] > prev_end:\n",
    "            # Increment arrow count\n",
    "            count += 1\n",
    "            # Update previous end point\n",
    "            prev_end = arr[i][1]\n",
    "    # Return the minimum number of arrows needed and the sorted array\n",
    "    return count, arr\n",
    "arrow(points)"
   ]
  },
  {
   "cell_type": "markdown",
   "metadata": {},
   "source": [
    "### ​LeetCode Problem 763 Partition Labels\n",
    "\n",
    "Problem Description:\n",
    "\n",
    "Given a string s, partition it such that each letter appears in at most one part, and return a list of integers representing the size of these parts."
   ]
  },
  {
   "cell_type": "markdown",
   "metadata": {},
   "source": [
    "Input: s = \"ababcbacadefegdehijhklij\"\n",
    "Output: [9,7,8]\n",
    "Explanation:\n",
    "The partition is \"ababcbaca\", \"defegde\", \"hijhklij\".\n",
    "This is a partition so that each letter appears in at most one part.\n"
   ]
  },
  {
   "cell_type": "code",
   "execution_count": null,
   "metadata": {},
   "outputs": [],
   "source": [
    "s = \"ababcbacadefegdehijhklijzzz\""
   ]
  },
  {
   "cell_type": "code",
   "execution_count": null,
   "metadata": {},
   "outputs": [],
   "source": [
    "## in the end this is still about finding overalping intervals\n",
    "def partition(string):\n",
    "    chardict = {}\n",
    "    for i in range(len(string)):\n",
    "        if string[i] not in chardict:\n",
    "            chardict[string[i]]=[i,i]\n",
    "        else:\n",
    "            chardict[string[i]][1] = i\n",
    "    l = [value for value in chardict.values()]\n",
    "    print(l)\n",
    "    count = 0\n",
    "    start = l[0][0]\n",
    "    end = l[0][1]\n",
    "    part = [[start,end]]\n",
    "    for i in range(1,len(l)):\n",
    "        if l[i][0] > end:\n",
    "            count += 1\n",
    "            start = l[i][0]\n",
    "            end = l[i][1]\n",
    "            part.append([start,end])\n",
    "        elif l[i][1] >= end:\n",
    "            end = l[i][1]\n",
    "            part[count][1] = end\n",
    "    return [part,[b-a + 1 for a,b in part]]\n",
    "            "
   ]
  },
  {
   "cell_type": "code",
   "execution_count": null,
   "metadata": {},
   "outputs": [],
   "source": [
    "partition(s)"
   ]
  },
  {
   "cell_type": "markdown",
   "metadata": {},
   "source": [
    "### LeetCode Problem 122, \"Best Time to Buy and Sell Stock II\"\n",
    "Problem Description:\n",
    "You are given an integer array prices where prices[i] represents the price of a given stock on the i-th day. Your objective is to maximize your profit by choosing to buy and sell the stock on certain days. You may engage in multiple transactions, but you can only hold one share of the stock at any time. You may buy and sell on the same day.\\\n",
    "Input: prices = [7,1,5,3,6,4] \\\n",
    "Output: 7\\\n",
    "Explanation:\\\n",
    "Buy on day 2 (price = 1) and sell on day 3 (price = 5), profit = 5-1 = 4.\\\n",
    "Then buy on day 4 (price = 3) and sell on day 5 (price = 6), profit = 6-3 = 3.\\\n",
    "Total profit is 4 + 3 = 7.\n"
   ]
  },
  {
   "cell_type": "code",
   "execution_count": null,
   "metadata": {},
   "outputs": [],
   "source": [
    "prices = [1,2,3,4,5]"
   ]
  },
  {
   "cell_type": "code",
   "execution_count": null,
   "metadata": {},
   "outputs": [],
   "source": [
    "## simplest solution:\n",
    "def maxprofit(arr):\n",
    "    profit = 0\n",
    "    for i in range(1,len(arr)):\n",
    "        if arr[i] > arr[i-1]:\n",
    "            profit += arr[i] - arr[i-1]\n",
    "    return profit"
   ]
  },
  {
   "cell_type": "code",
   "execution_count": null,
   "metadata": {},
   "outputs": [],
   "source": [
    "maxprofit(prices)"
   ]
  },
  {
   "cell_type": "markdown",
   "metadata": {},
   "source": [
    "## Mismatched String "
   ]
  },
  {
   "cell_type": "markdown",
   "metadata": {},
   "source": [
    "Given an input of two strings consisting of english letters (a-z; A-Z) and spaces, complete a function that returns a list containing all the mismatched words (case sensitive) between them.\n",
    "You can assume that a word is a group of characters delimited by spaces.\n",
    "A mismatched word is a word that is only in one string but not the other.\n",
    "Add mismatched words from the first string before you add mismatched words from the second string in the output array."
   ]
  },
  {
   "cell_type": "code",
   "execution_count": null,
   "metadata": {},
   "outputs": [],
   "source": [
    "str1 = \"Firstly this is the first string\"\n",
    "str2 = \"Next is the second string XXX\"\n",
    "##output: [\"Firstly\", \"this\", \"first\", \"Next\", \"second\"]\n",
    "\n",
    "def mismatch(string1,string2):\n",
    "    list1 = string1.split(' ')\n",
    "    list2 = string2.split(' ')\n",
    "    set1 = set(list1)\n",
    "    set2 = set(list2)\n",
    "    total = []\n",
    "    for i in list1:\n",
    "        if i not in set2:\n",
    "            total.append(i)\n",
    "    for i in list2:\n",
    "        if i not in set1:\n",
    "            total.append(i)\n",
    "    return total\n",
    "\n",
    "mismatch(str1,str2)"
   ]
  },
  {
   "cell_type": "markdown",
   "metadata": {},
   "source": [
    "## Fibonacci sequence and recursion"
   ]
  },
  {
   "cell_type": "markdown",
   "metadata": {},
   "source": [
    "### stair climbing\n",
    "You are climbing a staircase. It takes n steps to reach the top.\n",
    "\n",
    "Each time you can either climb 1 or 2 steps. In how many distinct ways can you climb to the top?\n"
   ]
  },
  {
   "cell_type": "code",
   "execution_count": null,
   "metadata": {},
   "outputs": [],
   "source": [
    "### there are only 2 ways  to get to N step. you either climb 1 step from n-1 step or 2 steps from n-2 step.\n",
    "### so the total will be all the ways to n-1 step + all the ways to n-2 step"
   ]
  },
  {
   "cell_type": "code",
   "execution_count": 517,
   "metadata": {},
   "outputs": [
    {
     "name": "stdout",
     "output_type": "stream",
     "text": [
      "1 1\n",
      "2 1\n",
      "1 1\n",
      "1 1\n",
      "3 2\n",
      "1 1\n",
      "2 1\n",
      "1 1\n",
      "1 1\n",
      "1 1\n",
      "2 1\n",
      "1 1\n",
      "5 3\n",
      "1 1\n",
      "2 1\n",
      "1 1\n",
      "1 1\n",
      "3 2\n",
      "1 1\n",
      "2 1\n",
      "1 1\n",
      "1 1\n",
      "1 1\n",
      "2 1\n",
      "1 1\n",
      "1 1\n",
      "2 1\n",
      "1 1\n",
      "1 1\n",
      "3 2\n",
      "1 1\n",
      "2 1\n",
      "1 1\n",
      "1 1\n",
      "8 5\n",
      "1 1\n",
      "2 1\n",
      "1 1\n",
      "1 1\n",
      "3 2\n",
      "1 1\n",
      "2 1\n",
      "1 1\n",
      "1 1\n",
      "1 1\n",
      "2 1\n",
      "1 1\n",
      "5 3\n",
      "1 1\n",
      "2 1\n",
      "1 1\n",
      "1 1\n",
      "3 2\n",
      "1 1\n",
      "2 1\n",
      "1 1\n",
      "1 1\n",
      "1 1\n",
      "2 1\n",
      "1 1\n",
      "1 1\n",
      "2 1\n",
      "1 1\n",
      "1 1\n",
      "3 2\n",
      "1 1\n",
      "2 1\n",
      "1 1\n",
      "1 1\n"
     ]
    },
    {
     "data": {
      "text/plain": [
       "13"
      ]
     },
     "execution_count": 517,
     "metadata": {},
     "output_type": "execute_result"
    }
   ],
   "source": [
    "n = 6\n",
    "def climb(num):\n",
    "    if num == 0 or num==1:\n",
    "        return 1\n",
    "    print(climb(num-1),climb(num-2))\n",
    "    return climb(num-1) + climb(num-2)\n",
    "climb(n)"
   ]
  },
  {
   "cell_type": "markdown",
   "metadata": {},
   "source": [
    "#### Problem 2: House Robber (LeetCode #198)\n",
    "You are a professional robber planning to rob houses along a street. Each house has some amount of money, but you can't rob two adjacent houses, or an alarm will go off.\n",
    "\n",
    "Given an integer array nums representing the amount of money at each house, return the maximum amount you can rob without alerting the police."
   ]
  },
  {
   "cell_type": "code",
   "execution_count": 531,
   "metadata": {},
   "outputs": [
    {
     "data": {
      "text/plain": [
       "14"
      ]
     },
     "execution_count": 531,
     "metadata": {},
     "output_type": "execute_result"
    }
   ],
   "source": [
    "## for house i, you can either rob it then you will skip house i -1, so money = nums[i] + max [i-2]\n",
    "## or you can skip it, then money is max(i-1)\n",
    "\n",
    "n = [2, 7, 9, 3, 1,3]\n",
    "\n",
    "def rob(arr):\n",
    "    if not arr:\n",
    "        return 0\n",
    "    elif len(arr) ==1:\n",
    "        return arr[0]\n",
    "    else:\n",
    "        dp = [0] * len(arr) ##iterative dynamic programming solution\n",
    "        dp[0] = arr[0]\n",
    "        dp[1] = max(arr[0],arr[1])\n",
    "        for i in range(2,len(dp)): ##not exactly recursive because it is in the ascending order\n",
    "            dp[i] = max(dp[i-1],dp[i-2] + arr[i])\n",
    "    return dp[-1]\n",
    "            \n",
    "rob(n)\n",
    "    \n",
    "      "
   ]
  },
  {
   "cell_type": "code",
   "execution_count": null,
   "metadata": {},
   "outputs": [],
   "source": [
    "#### the recursive way:\n",
    "def rob2(arr):\n",
    "    def dp(i):\n",
    "        if i <0:\n",
    "            return 0\n",
    "        elif i == 0:\n",
    "            return arr[0]\n",
    "        elif i ==1:\n",
    "            return max(arr[1],arr[0])\n",
    "        else: \n",
    "            return max(dp(i-1),dp(i-2)+arr[i])\n",
    "    return dp(len(arr)-1)\n",
    "rob2(n)"
   ]
  },
  {
   "cell_type": "markdown",
   "metadata": {},
   "source": [
    "### Problem 3: Decode Ways (LeetCode #91)\n",
    "A message containing letters from A-Z is encoded using numbers '1' to '26'.\n",
    "\n",
    "For example:\n",
    "\n",
    "'A' → '1'\n",
    "\n",
    "'B' → '2'\n",
    "\n",
    "...\n",
    "\n",
    "'Z' → '26'\n",
    "\n",
    "Given a string s containing only digits, return the number of ways to decode it.\n",
    "Input: s = \"226\"\n",
    "Output: 3\n",
    " Explanation: \"226\" can be decoded as:\n",
    " \"2 2 6\" → \"BBF\"\n",
    " \"22 6\" → \"VF\"\n",
    " \"2 26\" → \"BZ\"\n"
   ]
  },
  {
   "cell_type": "code",
   "execution_count": null,
   "metadata": {},
   "outputs": [],
   "source": [
    "def decode(s):\n",
    "    # Handle edge cases: empty string or string starting with '0'\n",
    "    if not s or s[0] == '0':\n",
    "        return 0\n",
    "\n",
    "    n = len(s)\n",
    "    # Base case: single digit has only one way to decode\n",
    "    if n == 1:\n",
    "        return 1\n",
    "\n",
    "    # Initialize dynamic programming array\n",
    "    dp = [0] * n\n",
    "    # Base case: first digit has one way to decode\n",
    "    dp[0] = 1\n",
    "\n",
    "    # Handle dp[1] carefully\n",
    "    # If second digit is not '0', it can be decoded on its own\n",
    "    if s[1] != '0':\n",
    "        dp[1] += 1 \n",
    "    # If first two digits form a valid letter (10-26), add another way\n",
    "    if 10 <= int(s[:2]) <= 26:\n",
    "        dp[1] += 1\n",
    "\n",
    "    # Process remaining digits\n",
    "    for i in range(2, n):\n",
    "        # If current char is valid (not zero), it can be decoded alone\n",
    "        # So we add the number of ways to decode the string up to i-1\n",
    "        if s[i] != '0':\n",
    "            dp[i] += dp[i - 1]\n",
    "\n",
    "        # If previous+current char forms a valid 2-digit number (10-26)\n",
    "        # We add the number of ways to decode the string up to i-2\n",
    "        if 10 <= int(s[i-1:i+1]) <= 26:\n",
    "            dp[i] += dp[i - 2]\n",
    "\n",
    "    # Return the total number of ways to decode the entire string\n",
    "    return dp,dp[-1]"
   ]
  },
  {
   "cell_type": "code",
   "execution_count": null,
   "metadata": {},
   "outputs": [],
   "source": [
    "decode(\"1100\")\n",
    "## if the last is 0, then it must bind with 2, so essentially is just becomes \"11\", dp[3] = dp[1]\n",
    "## it is \"1100\", then it is 0, because the 2 zeros cant form anything"
   ]
  },
  {
   "cell_type": "markdown",
   "metadata": {},
   "source": [
    "### 62. Unique Paths\n",
    "There is a robot on an m x n grid. The robot is initially located at the top-left corner (i.e., grid[0][0]). The robot tries to move to the bottom-right corner (i.e., grid[m - 1][n - 1]). The robot can only move either down or right at any point in time.\n",
    "\n",
    "Given the two integers m and n, return the number of possible unique paths that the robot can take to reach the bottom-right corner."
   ]
  },
  {
   "cell_type": "code",
   "execution_count": 543,
   "metadata": {},
   "outputs": [
    {
     "data": {
      "text/plain": [
       "28"
      ]
     },
     "execution_count": 543,
     "metadata": {},
     "output_type": "execute_result"
    }
   ],
   "source": [
    "m = 3\n",
    "n = 7\n",
    "def unique(a,b):\n",
    "    if a == 1  or b==1:\n",
    "        return 1\n",
    "    else:\n",
    "        dp = [[1] * b for i in range(a)]\n",
    "        for i in range(1,a):\n",
    "            for j in range(1,b):\n",
    "                dp[i][j] = dp[i-1][j] + dp[i][j-1]\n",
    "    return dp[a-1][b-1]\n",
    "unique (3,7)"
   ]
  },
  {
   "cell_type": "markdown",
   "metadata": {},
   "source": [
    "### Paint House (LeetCode #256) — Medium\n",
    "You are given an n x 3 matrix costs where:\n",
    "\n",
    "costs[i][j] is the cost of painting the i-th house with the j-th color.\n",
    "\n",
    "The three colors are indexed as 0 = red, 1 = blue, 2 = green.\n",
    "\n",
    "You must paint all the houses such that no two adjacent houses have the same color, and return the minimum total cost to paint all houses.\n",
    "``` python\n",
    "\n",
    "Input: costs = [\n",
    "  [17, 2, 17],\n",
    "  [16, 16, 5],\n",
    "  [14, 3, 19]\n",
    "]\n",
    "Output: 10\n",
    "# Explanation:\n",
    "# Paint house 0 with color 1 (cost = 2)\n",
    "# Paint house 1 with color 2 (cost = 5)\n",
    "# Paint house 2 with color 1 (cost = 3)\n",
    "# Total = 2 + 5 + 3 = 10\n",
    "\n",
    "```"
   ]
  },
  {
   "cell_type": "code",
   "execution_count": null,
   "metadata": {},
   "outputs": [],
   "source": [
    "costs = [\n",
    "  [17, 2, 17],\n",
    "  [16, 16, 5],\n",
    "  [14, 3, 19]\n",
    "]\n",
    "def paint(cost):\n",
    "    # Get the number of houses (rows in cost matrix)\n",
    "    n = len(cost)\n",
    "    # Handle edge cases: if cost is empty or has no houses\n",
    "    if not cost or n == 0:\n",
    "        return 0\n",
    "    else:\n",
    "        # Iterate through each house starting from the second house (index 1)\n",
    "        for i in range(1,len(cost)):\n",
    "            # Below are alternative implementations (commented out)\n",
    "            # cost[i][0] = cost[i][0] + min(cost[i-1][1],cost[i-1][2])\n",
    "            # cost[i][1] = cost[i][1] + min(cost[i-1][0],cost[i-1][2])\n",
    "            # cost[i][2] = cost[i][2] + min(cost[i-1][0],cost[i-1][1])\n",
    "            \n",
    "            # For each color option (0, 1, 2)\n",
    "            for j in range(3):  # current color\n",
    "                # Add the minimum cost from previous house's other two colors\n",
    "                # Using modulo to cycle through the other two colors\n",
    "                cost[i][j] += min(cost[i-1][c] for  c in range(3) if c != j)\n",
    "\n",
    "    # for i in range(1, n):\n",
    "    # for j in range(k):\n",
    "    #     cost[i][j] += min(cost[i - 1][c] for c in range(k) if c != j)\n",
    "\n",
    "            \n",
    "    # Return the minimum cost from the last house's three color options\n",
    "    return min(cost[-1][0],cost[-1][1],cost[-1][2])\n",
    "paint(costs)"
   ]
  },
  {
   "cell_type": "markdown",
   "metadata": {},
   "source": [
    "## Ransom Note Problem"
   ]
  },
  {
   "cell_type": "markdown",
   "metadata": {},
   "source": [
    "In the Ransom Note problem, you're given two strings: a ransom note and a magazine. You need to determine if the ransom note can be constructed using the letters from the magazine. Each letter in the magazine can only be used once in the ransom note.\n",
    "For example:\n",
    "\n",
    "Input: ransomNote = \"a\", magazine = \"b\" → Output: false\n",
    "Input: ransomNote = \"aa\", magazine = \"ab\" → Output: false\n",
    "Input: ransomNote = \"aa\", magazine = \"aab\" → Output: true"
   ]
  },
  {
   "cell_type": "code",
   "execution_count": null,
   "metadata": {},
   "outputs": [],
   "source": [
    "ransom = \"abccccccs\"\n",
    "magazine = \"bbccccccccccs\"\n",
    "\n",
    "from collections import Counter\n",
    "def note(ransom,magazine):\n",
    "    r = Counter(ransom)\n",
    "    m = Counter(magazine)\n",
    "    for i in r.keys():\n",
    "        if i not in m.keys() or r[i] > m[i]:\n",
    "            return \"No cant construct!\"\n",
    "    return \"yes can construct\"\n",
    "\n",
    "note(ransom,magazine)\n",
    "            "
   ]
  },
  {
   "cell_type": "markdown",
   "metadata": {},
   "source": [
    "### Manual Counter"
   ]
  },
  {
   "cell_type": "code",
   "execution_count": null,
   "metadata": {},
   "outputs": [],
   "source": [
    "## manual counter\n",
    "str1 = 'aaaccb'\n",
    "def count(string):\n",
    "    count_hash = {}\n",
    "    for char in string:\n",
    "        if char not in count_hash:\n",
    "            count_hash[char] = 1\n",
    "        else:\n",
    "            count_hash[char] += 1\n",
    "    return count_hash\n",
    "\n",
    "count(str1)"
   ]
  },
  {
   "cell_type": "markdown",
   "metadata": {},
   "source": [
    "## Return Smallest Key"
   ]
  },
  {
   "cell_type": "markdown",
   "metadata": {},
   "source": [
    "You are given an input dictionary with keys as strings, and values as integers. Complete a function that returns the key with the nth smallest value.\n",
    "If the solution involves two keys that have the same value, return the the key that is lexicographically earliest.\n",
    "If n is larger than the number of distinct keys or equal to 0, then return null."
   ]
  },
  {
   "cell_type": "code",
   "execution_count": null,
   "metadata": {},
   "outputs": [],
   "source": [
    "dict1 = {\"laptop\": 999,\"iphone\": 999,\"smart tv\": 500,\"smart watch\": 300,\"smart home\": 9999999}\n",
    "n = 1\n",
    "\n",
    "def smallest(dictionary, n):\n",
    "    t = [(value,key) for key , value in dictionary.items()] ## the key here is to sort the tuple\n",
    "    t_sorted = sorted(t)\n",
    "    if n > len(set(dictionary.keys())) or n == 0:\n",
    "        return None\n",
    "    else:\n",
    "        return t_sorted[n-1][1]\n",
    "\n",
    "smallest(dict1,n)"
   ]
  },
  {
   "cell_type": "markdown",
   "metadata": {},
   "source": [
    "## Fill in the Blanks\n",
    "Given an array containing null values fill in the null values with most recent non-null value in the array."
   ]
  },
  {
   "cell_type": "code",
   "execution_count": null,
   "metadata": {},
   "outputs": [],
   "source": [
    "def fillna(arr):\n",
    "    new_list = []\n",
    "    new_list.append(arr[0])\n",
    "    for i in range(1,len(arr)):\n",
    "        if arr[i] == None:\n",
    "            new_list.append(new_list[i-1])\n",
    "        else:\n",
    "            new_list.append(arr[i])\n",
    "    return new_list"
   ]
  },
  {
   "cell_type": "markdown",
   "metadata": {},
   "source": [
    "## How to unpack a nested list; be very careful about the order in list comprehension"
   ]
  },
  {
   "cell_type": "code",
   "execution_count": 571,
   "metadata": {},
   "outputs": [],
   "source": [
    "arr = [[1,2,3],[4,5,6]]"
   ]
  },
  {
   "cell_type": "code",
   "execution_count": null,
   "metadata": {},
   "outputs": [],
   "source": [
    "# Flattens a 2D array 'arr' into a 1D list using list comprehension\n",
    "# Outer loop iterates through each sublist in arr\n",
    "# Inner loop iterates through each item in the current sublist\n",
    "print([item for sublist in arr for item in sublist])\n",
    "## the order is a bit inverted, it is not:\n",
    "## print([item for item in sublist for sublist in arr]) ## this is wrong"
   ]
  },
  {
   "cell_type": "markdown",
   "metadata": {},
   "source": [
    "### use numpy reshape "
   ]
  },
  {
   "cell_type": "code",
   "execution_count": 573,
   "metadata": {},
   "outputs": [
    {
     "name": "stdout",
     "output_type": "stream",
     "text": [
      "[[1 2 3 4 5 6]]\n",
      "[1 2 3 4 5 6]\n"
     ]
    }
   ],
   "source": [
    "## np.reshape(array,newshape)\n",
    "## newshape can be -1 which unfolds it into one row, or tuple (2,3)\n",
    "import numpy as np\n",
    "print(np.reshape(arr,(1,6)))\n",
    "print(np.reshape(arr,-1))"
   ]
  },
  {
   "cell_type": "markdown",
   "metadata": {},
   "source": [
    "### Maximum Additional Diners in a Restaurant\n",
    "You are tasked with solving a problem involving seating arrangements in a restaurant. The restaurant has N seats, numbered from 1 to N in a single row. Some of these seats are already occupied by diners, and the positions of these occupied seats are given as an array S of size M.\n",
    "\n",
    "To maintain social distancing guidelines, each diner must have at least K empty seats between themselves and any other diner.\n",
    "\n",
    "Your goal is to determine the maximum number of additional diners that can be seated in the restaurant while adhering to the social distancing rules.\n",
    "\n",
    "Input:\n",
    "N (integer): The total number of seats in the restaurant.\n",
    "\n",
    "K (integer): The minimum number of empty seats required between any two diners.\n",
    "\n",
    "M (integer): The number of currently occupied seats.\n",
    "\n",
    "S (list of integers): A sorted list of seat numbers that are already occupied.\n",
    "\n",
    "Output:\n",
    "An integer representing the maximum number of additional diners that can be seated while maintaining the social distancing rules."
   ]
  },
  {
   "cell_type": "code",
   "execution_count": null,
   "metadata": {},
   "outputs": [],
   "source": [
    "N = 10\n",
    "K = 1\n",
    "M = 2\n",
    "S = [2, 6]"
   ]
  },
  {
   "cell_type": "code",
   "execution_count": null,
   "metadata": {},
   "outputs": [],
   "source": [
    "## best solution, use arithmetic:\n",
    "def maxseat(N: int, K: int, M: int, S) -> int:\n",
    "    # Sort the occupied seats in ascending order\n",
    "    S.sort()\n",
    "    \n",
    "    # Calculate number of new diners that can fit in gap before first occupied seat\n",
    "    # Divide by K+1 because each new diner needs K buffer seats, plus 1 seat for themselves\n",
    "    # Example: If K=1, need 2 seats per diner (1 buffer + 1 seat)\n",
    "    num_new_diners = max((S[0] - 1),0) // (K + 1)\n",
    "    \n",
    "    # For each pair of adjacent occupied seats\n",
    "    for i in range(1, M):\n",
    "        # Calculate gap between seats, subtract K+1 for required buffer zones\n",
    "        # Divide by K+1 since each new diner needs K buffer seats + 1 seat for themselves\n",
    "        num_new_diners += (S[i] - S[i-1] - K -1) // (K + 1)\n",
    "        \n",
    "    # Calculate number of new diners that can fit after last occupied seat\n",
    "    # Divide by K+1 since each new diner needs K buffer seats + 1 seat for themselves\n",
    "    num_new_diners += (N - S[-1]) // (K + 1)\n",
    "    \n",
    "    return num_new_diners\n",
    "\n",
    "print(\"Maximum additional diners:\", maxseat(N, K, M, S))"
   ]
  },
  {
   "cell_type": "markdown",
   "metadata": {},
   "source": [
    "## Stack Technique"
   ]
  },
  {
   "cell_type": "markdown",
   "metadata": {},
   "source": [
    "### 20. Valid Parentheses\n",
    "Given a string s containing just the characters '(', ')', '{', '}', '[' and ']', determine if the input string is valid.\n",
    "\n",
    "An input string is valid if:\n",
    "\n",
    "Open brackets must be closed by the same type of brackets.\n",
    "Open brackets must be closed in the correct order.\n",
    "Every close bracket has a corresponding open bracket of the same type."
   ]
  },
  {
   "cell_type": "code",
   "execution_count": null,
   "metadata": {},
   "outputs": [],
   "source": [
    "s = \"(())\" # This string will be used to test the valid function\n",
    "def valid(string):\n",
    "    # Dictionary mapping opening brackets to their corresponding closing brackets\n",
    "    hashdict = {'(':')',\"[\":\"]\",\"{\":\"}\"}\n",
    "    # Stack to keep track of opening brackets\n",
    "    stack = []\n",
    "    for char in string:\n",
    "        # If character is an opening bracket, push it onto the stack\n",
    "        if char in hashdict.keys():\n",
    "            stack.append(char)\n",
    "            print(stack)\n",
    "        else:\n",
    "            # If stack is empty but we found a closing bracket, return False\n",
    "            if stack == []:\n",
    "                return False\n",
    "            # If closing bracket doesn't match the last opening bracket, return False\n",
    "            elif char != hashdict[stack[-1]]:\n",
    "                print(stack)\n",
    "                return False\n",
    "            # If closing bracket matches, pop the last opening bracket from stack\n",
    "            else:\n",
    "                stack.pop(-1)\n",
    "                print(stack)\n",
    "    # Return True only if all brackets were properly closed (stack is empty)\n",
    "    return True if stack == [] else False\n",
    "valid(s)"
   ]
  },
  {
   "cell_type": "markdown",
   "metadata": {},
   "source": [
    "### 739. Daily Temperatures\n",
    "Given an array of integers temperatures represents the daily temperatures, return an array answer such that answer[i] is the number of days you have to wait after the ith day to get a warmer temperature. If there is no future day for which this is possible, keep answer[i] == 0 instead."
   ]
  },
  {
   "cell_type": "markdown",
   "metadata": {},
   "source": [
    "temperatures = [73,74,75,71,69,72,76,73]\n",
    " ouput [1,1,4,2,1,1,0,0]"
   ]
  },
  {
   "cell_type": "code",
   "execution_count": 149,
   "metadata": {},
   "outputs": [
    {
     "data": {
      "text/plain": [
       "[1, 1, 4, 2, 1, 1, 0, 0]"
      ]
     },
     "execution_count": 149,
     "metadata": {},
     "output_type": "execute_result"
    }
   ],
   "source": [
    "temperatures = [73,74,75,71,69,72,76,73]\n",
    "def day(temp):\n",
    "    # Get the length of the temperature array\n",
    "    n = len(temp)\n",
    "    # Initialize result array with zeros (will store days until warmer temperature)\n",
    "    result = [0] * n\n",
    "    # Stack to keep track of indices of temperatures\n",
    "    stack = []\n",
    "    \n",
    "    # Iterate through each temperature with its index\n",
    "    for cur_index, cur_temp in enumerate(temp):\n",
    "        # While stack is not empty and current temperature is higher than temperature at stack's top index\n",
    "        while stack and cur_temp > temp[stack[-1]]:\n",
    "            # Pop the previous index from stack\n",
    "            prev_index = stack.pop()\n",
    "            # Calculate days between current day and previous day, store in result\n",
    "            result[prev_index] = abs(prev_index - cur_index)\n",
    "        # Add current index to stack for future comparisons\n",
    "        stack.append(cur_index)\n",
    "    return result\n",
    "day(temperatures)"
   ]
  },
  {
   "cell_type": "code",
   "execution_count": 147,
   "metadata": {},
   "outputs": [
    {
     "name": "stdout",
     "output_type": "stream",
     "text": [
      "[-1, -1, -1]\n"
     ]
    }
   ],
   "source": [
    "lst1 = [1,2,3]\n",
    "lst2 = [2,3,4]\n",
    "# Element-wise subtraction using list comprehension\n",
    "result = [x - y for x, y in zip(lst1, lst2)] \n",
    "# The zip() function pairs elements from lst1 and lst2 by their index positions.\n",
    "\n",
    "print(result)  # Output: [1, 1, 1]"
   ]
  },
  {
   "cell_type": "markdown",
   "metadata": {},
   "source": [
    "## Binary Search\n",
    "\n",
    "Binary search is an efficient algorithm for finding a target element in a **sorted** array or list. It works by repeatedly dividing the search interval in half, comparing the target value to the middle element, and narrowing the search to either the left or right half of the list based on the comparison. The algorithm has a time complexity of O(log⁡n)*O*(log*n*), making it much faster than linear search for large datasets.\n",
    "\n",
    "### How Binary Search Works\n",
    "\n",
    "1. **Initialization**: Start with two pointers, `low` (beginning of the list) and `high` (end of the list).\n",
    "2. **Find Middle**: Calculate the middle index as mid=low+(high−low)//2.\n",
    "3. **Comparison**:\n",
    "   * If the middle element equals the target, return its index.\n",
    "   * If the target is smaller than the middle element, search the left half by updating `high = mid - 1`.\n",
    "   * If the target is larger, search the right half by updating `low = mid + 1`.\n",
    "4. **Repeat** until `low` exceeds `high` or the target is found.\n",
    "\n",
    "Binary search can be implemented iteratively or recursively."
   ]
  },
  {
   "cell_type": "markdown",
   "metadata": {},
   "source": [
    "### Find an Element in a Sorted List\n",
    "Problem Statement: Given a sorted list of integers, find the index of a target number. If the number does not exist in the list, return -1."
   ]
  },
  {
   "cell_type": "code",
   "execution_count": 4,
   "metadata": {},
   "outputs": [
    {
     "name": "stdout",
     "output_type": "stream",
     "text": [
      "Function took 0.0000 seconds to run\n",
      "Function took 0.0823 seconds to run\n"
     ]
    }
   ],
   "source": [
    "import random\n",
    "import time\n",
    "nums = set([random.randint(1, 10000000) for _ in range(10000000)])\n",
    "nums_sorted = sorted([i for i in nums])\n",
    "target = nums_sorted[999999]\n",
    "\n",
    "def bs(arr,target):\n",
    "    n = len(arr)\n",
    "    low = 0\n",
    "    high = n -1\n",
    "    while 0<=low<=high<=n-1:\n",
    "        mid = low + (high-low)//2 ## it is equivalent to (high + low) //2 but avoid potential integer overflow\n",
    "        if arr[mid] == target:\n",
    "            return mid,arr[mid]\n",
    "        elif arr[mid] > target:\n",
    "            high = mid - 1\n",
    "        else:\n",
    "            low = mid + 1\n",
    "    return 'target not found'\n",
    "\n",
    "def normalsearch(arr,target):\n",
    "    for i in range(len(arr)):\n",
    "        if arr[i] == target:\n",
    "            return i, target\n",
    "    return 'target not found'\n",
    "\n",
    "start = time.time()       \n",
    "bs(nums_sorted,target)\n",
    "end = time.time()\n",
    "print(f\"Function took {end - start:.4f} seconds to run\")\n",
    "start = time.time()      \n",
    "normalsearch(nums_sorted,target)\n",
    "end = time.time()\n",
    "print(f\"Function took {end - start:.4f} seconds to run\")"
   ]
  },
  {
   "cell_type": "markdown",
   "metadata": {},
   "source": [
    "### get the integer root of another integer"
   ]
  },
  {
   "cell_type": "code",
   "execution_count": 25,
   "metadata": {},
   "outputs": [
    {
     "data": {
      "text/plain": [
       "4"
      ]
     },
     "execution_count": 25,
     "metadata": {},
     "output_type": "execute_result"
    }
   ],
   "source": [
    "num = 17\n",
    "def sqt (num):\n",
    "    low = 1\n",
    "    high = num\n",
    "    while 0<=low <=high<= num:\n",
    "        mid = (low + high)//2\n",
    "        squared = mid **2\n",
    "        if squared == num:\n",
    "            return mid\n",
    "        elif squared < num:\n",
    "            low = mid + 1\n",
    "        else:\n",
    "            high = mid -1\n",
    "    return high\n",
    "sqt(num)"
   ]
  },
  {
   "cell_type": "markdown",
   "metadata": {},
   "source": [
    "### 34. Find First and Last Position of Element in Sorted Array\n",
    "Given an array of integers nums sorted in non-decreasing order, find the starting and ending position of a given target value.\n",
    "\n",
    "If target is not found in the array, return [-1, -1].\n",
    "\n",
    "You must write an algorithm with O(log n) runtime complexity."
   ]
  },
  {
   "cell_type": "code",
   "execution_count": 46,
   "metadata": {},
   "outputs": [
    {
     "data": {
      "text/plain": [
       "[3, 5]"
      ]
     },
     "execution_count": 46,
     "metadata": {},
     "output_type": "execute_result"
    }
   ],
   "source": [
    "nums = [5,7,7,8,8,8,10]\n",
    "target = 8\n",
    "\n",
    "import bisect\n",
    "## bisect.bisect_left produce the first occurance\n",
    "# Behavior:\n",
    "# If the element exists in the list, it returns the index of its first occurrence.\n",
    "# If the element does not exist, it returns the index where it can be inserted to keep the list sorted.\n",
    "# bisect_right\n",
    "# Purpose: Finds the rightmost index where an element can be inserted into a sorted list while maintaining the order.\n",
    "# Behavior:\n",
    "# If the element exists in the list, it returns the index just **after** its last occurrence.\n",
    "# If the element does not exist, it returns the index where it can be inserted to keep the list sorted.\n",
    "\n",
    "def pos(arr,target):\n",
    "    s = set(arr)\n",
    "    if target not in s:\n",
    "        return [-1,-1]\n",
    "    idx1 = bisect.bisect_left(arr,target)\n",
    "    idx2 = bisect.bisect_right(arr,target) -1\n",
    "    return [idx1,idx2]\n",
    "pos(nums,target)"
   ]
  },
  {
   "cell_type": "markdown",
   "metadata": {},
   "source": [
    "###  162. Find Peak Element\n",
    "A peak element is an element that is strictly greater than its neighbors.\n",
    "\n",
    "Given a 0-indexed integer array nums, find a peak element, and return its index. If the array contains multiple peaks, return the index to any of the peaks."
   ]
  },
  {
   "cell_type": "code",
   "execution_count": 1,
   "metadata": {},
   "outputs": [
    {
     "data": {
      "text/plain": [
       "2"
      ]
     },
     "execution_count": 1,
     "metadata": {},
     "output_type": "execute_result"
    }
   ],
   "source": [
    "nums = [1,2,3,2]\n",
    "def peak(arr):\n",
    "    # Get the length of the input array\n",
    "    length = len(arr)\n",
    "    # If array has only one element, its index is the peak\n",
    "    if length == 1:\n",
    "        return 0\n",
    "    else:\n",
    "        # Initialize binary search boundaries\n",
    "        left , right = 0, length -1\n",
    "        while left < right:\n",
    "            # Calculate the middle index\n",
    "            mid = (left +right) //2\n",
    "            # If middle element is greater than the next element,\n",
    "            # peak must be in the left half (including mid)\n",
    "            if nums[mid] > nums[mid + 1]:\n",
    "                right = mid\n",
    "            # Otherwise, peak must be in the right half (excluding mid)\n",
    "            else:\n",
    "                left = mid + 1\n",
    "        # Return the index of the peak element\n",
    "        return left\n",
    "peak(nums)"
   ]
  },
  {
   "cell_type": "markdown",
   "metadata": {},
   "source": [
    "### 81. Search in Rotated Sorted Array II\n",
    "For a rotated sorted array, that means the array is divided into 2 parts, both have sorted non descending order, we then just need to find out if the target is in part left or part right."
   ]
  },
  {
   "cell_type": "code",
   "execution_count": 67,
   "metadata": {},
   "outputs": [
    {
     "data": {
      "text/plain": [
       "True"
      ]
     },
     "execution_count": 67,
     "metadata": {},
     "output_type": "execute_result"
    }
   ],
   "source": [
    "nums = [2,5,6,0,0,1,2,2,2,2,2]\n",
    "target = 2\n",
    "def s(arr, target):\n",
    "    # Get the length of the array\n",
    "    n = len(arr)\n",
    "    # Return False if array is empty or target is not in the array\n",
    "    if (not arr) or target not in set(arr):\n",
    "        return False\n",
    "    \n",
    "    # Initialize left and right pointers for binary search\n",
    "    l = 0\n",
    "    r = n - 1\n",
    "    \n",
    "    # Binary search in a potentially rotated array with duplicates\n",
    "    while 0 <= l <= r <= n-1:\n",
    "        # Calculate middle index\n",
    "        mid = (l+r) // 2\n",
    "        \n",
    "        # If middle element is the target, return True immediately\n",
    "        while arr[mid] == target:\n",
    "            return True\n",
    "        \n",
    "        # Handle duplicates by incrementing left pointer\n",
    "        if arr[mid] == arr[l]:\n",
    "            l += 1\n",
    "        # Handle duplicates by decrementing right pointer\n",
    "        elif arr[mid] == arr[r]:\n",
    "            r -= 1\n",
    "        # If right portion is sorted (no rotation between mid and right)\n",
    "        elif arr[mid] < arr[r]:\n",
    "            # Check if target is in the right sorted portion\n",
    "            if arr[mid] < target <= arr[r]:\n",
    "                l = mid + 1  # Search in right half\n",
    "            else:\n",
    "                r = mid - 1  # Search in left half\n",
    "        # If left portion is sorted (no rotation between left and mid)\n",
    "        else:\n",
    "            # Check if target is in the left sorted portion\n",
    "            if arr[l] <= target < arr[mid]:\n",
    "                r = mid - 1  # Search in left half\n",
    "            else:\n",
    "                l = mid + 1  # Search in right half\n",
    "    \n",
    "    # Target not found\n",
    "    return False\n",
    "s(nums, target)"
   ]
  },
  {
   "cell_type": "markdown",
   "metadata": {},
   "source": [
    "### 540. Single Element in a Sorted Array\n",
    "You are given a sorted array consisting of only integers where every element appears exactly twice, except for one element which appears exactly once.\n",
    "\n",
    "Return the single element that appears only once."
   ]
  },
  {
   "cell_type": "code",
   "execution_count": 79,
   "metadata": {},
   "outputs": [
    {
     "data": {
      "text/plain": [
       "2"
      ]
     },
     "execution_count": 79,
     "metadata": {},
     "output_type": "execute_result"
    }
   ],
   "source": [
    "nums = [1,1,2,3,3,4,4,8,8] \n",
    "## the key is: if everything is duplicated, then if the index is even, then next element == this element\n",
    "## if the index is odd then previous element = this element\n",
    "## if it meets the above criteria, then the single element is on the right side\n",
    "\n",
    "def single(arr):\n",
    "    n = len(arr)\n",
    "    l = 0\n",
    "    r = n-1\n",
    "    while l < r:\n",
    "        mid = (l+r)//2\n",
    "        condition1 = mid % 2 ==0 and arr[mid] == arr[mid+1]\n",
    "        condition2 = mid%2 != 0 and arr[mid -1 ]==arr[mid]\n",
    "        if condition1 or condition2:\n",
    "            l = mid +1\n",
    "        else:\n",
    "            r = mid \n",
    "    return arr[l]\n",
    "single(nums)\n",
    "    "
   ]
  },
  {
   "cell_type": "markdown",
   "metadata": {},
   "source": [
    "## Data Structure"
   ]
  },
  {
   "cell_type": "markdown",
   "metadata": {},
   "source": [
    "### 448. Find All Numbers Disappeared in an Array"
   ]
  },
  {
   "cell_type": "code",
   "execution_count": 96,
   "metadata": {},
   "outputs": [
    {
     "data": {
      "text/plain": [
       "[5, 6, 9]"
      ]
     },
     "execution_count": 96,
     "metadata": {},
     "output_type": "execute_result"
    }
   ],
   "source": [
    "nums = [4,3,2,7,8,2,3,1,1]\n",
    "# def dis(arr):\n",
    "#     n = len(arr)\n",
    "#     s = set(arr)\n",
    "#     lst = []\n",
    "#     for i in range(1,n+1):\n",
    "#         if i not in s:\n",
    "#             lst.append(i)\n",
    "#     return lst\n",
    "# dis(nums)\n",
    "## this works but space complexity is O(n)\n",
    "\n",
    "def finddis(arr):\n",
    "    # This function finds all numbers from 1 to n that are missing from the array\n",
    "    # Using O(1) extra space by marking visited numbers in-place\n",
    "    \n",
    "    for num in nums:\n",
    "        # Get the index position corresponding to the current number\n",
    "        pos = abs(num) - 1\n",
    "        # Mark the number as visited by making its value at corresponding index negative\n",
    "        # basically we are using nums just for marking purposes, #\n",
    "        ### the actual value of the number or sorting doesnt matter\n",
    "        if nums[pos] > 0:\n",
    "            nums[pos] = -nums[pos]\n",
    "    \n",
    "    # Collect all indices (plus 1) where values are still positive\n",
    "    # These represent the missing numbers\n",
    "    return [i+1 for i in range(len(arr)) if nums[i] > 0]\n",
    "\n",
    "finddis(nums)"
   ]
  },
  {
   "cell_type": "markdown",
   "metadata": {},
   "source": [
    "### 48. Rotate Image\n",
    "You are given an n x n 2D matrix representing an image, rotate the image by 90 degrees (clockwise).\n",
    "\n",
    "You have to rotate the image in-place, which means you have to modify the input 2D matrix directly. DO NOT allocate another 2D matrix and do the rotation."
   ]
  },
  {
   "cell_type": "markdown",
   "metadata": {},
   "source": [
    "90° Clockwise Rotation\n",
    "first transpose and then reverse row\n",
    "minus 90 rotation\n",
    "reverse columns and then transpose"
   ]
  },
  {
   "cell_type": "code",
   "execution_count": 133,
   "metadata": {},
   "outputs": [
    {
     "data": {
      "text/plain": [
       "[[7, 4, 1], [8, 5, 2], [9, 6, 3]]"
      ]
     },
     "execution_count": 133,
     "metadata": {},
     "output_type": "execute_result"
    }
   ],
   "source": [
    "matrix = [[1,2,3],[4,5,6],[7,8,9]]\n",
    "def rotate(matrix):\n",
    "    ##transpose\n",
    "    for i in range(len(matrix)):\n",
    "        for j in range(i+1, len(matrix[0])): ## i+1, only reversing the upper triangle?\n",
    "            matrix[i][j],matrix[j][i] = matrix[j][i], matrix[i][j]\n",
    "    for row in matrix:\n",
    "        row.reverse() ##reverse row\n",
    "    return matrix\n",
    "rotate(matrix)"
   ]
  },
  {
   "cell_type": "code",
   "execution_count": 131,
   "metadata": {},
   "outputs": [],
   "source": [
    "## minus 90 degrees?\n",
    "def rotate_counterclockwise(matrix):\n",
    "    n = len(matrix)\n",
    "    \n",
    "    # Step 1: Reverse the columns\n",
    "    for i in range(n):\n",
    "        for j in range(n // 2):  # Swap elements in each row\n",
    "            matrix[i][j], matrix[i][n - j - 1] = matrix[i][n - j - 1], matrix[i][j]\n",
    "    \n",
    "    # Step 2: Transpose the matrix\n",
    "    for i in range(n):\n",
    "        for j in range(i + 1, n):  # Only traverse the upper triangle\n",
    "            matrix[i][j], matrix[j][i] = matrix[j][i], matrix[i][j]"
   ]
  },
  {
   "cell_type": "markdown",
   "metadata": {},
   "source": [
    "## Meta Real Problems"
   ]
  },
  {
   "cell_type": "markdown",
   "metadata": {},
   "source": [
    "### 找出一个数里面奇数组成的最小数, e.g. 1234返回13"
   ]
  },
  {
   "cell_type": "code",
   "execution_count": null,
   "metadata": {},
   "outputs": [],
   "source": [
    "number = 946205\n",
    "def smallest(num):\n",
    "    odd = [digit for digit in str(num) if int(digit) % 2 != 0]\n",
    "    odd_sorted = sorted(odd)\n",
    "    return int(''.join(odd_sorted))\n",
    "smallest(number)"
   ]
  },
  {
   "cell_type": "markdown",
   "metadata": {},
   "source": [
    "### 给一个只包括digit的string，比如“10001”，返回这个string可能对应的最大的数字，11000"
   ]
  },
  {
   "cell_type": "code",
   "execution_count": 80,
   "metadata": {},
   "outputs": [
    {
     "data": {
      "text/plain": [
       "9887544322"
      ]
     },
     "execution_count": 80,
     "metadata": {},
     "output_type": "execute_result"
    }
   ],
   "source": [
    "s = \"4857292348\"\n",
    "def largest(string):\n",
    "    string_sorted = sorted(string,reverse = True)\n",
    "    return int(''.join(string_sorted))\n",
    "largest(s)"
   ]
  },
  {
   "cell_type": "markdown",
   "metadata": {},
   "source": [
    "### 给一個dictionary ｛bookname1：［theme1， theme2，theme3］，bookname2:［theme4， theme2，theme5］return出現次數最多的theme，也就是theme2。"
   ]
  },
  {
   "cell_type": "code",
   "execution_count": null,
   "metadata": {},
   "outputs": [],
   "source": [
    "book = {\n",
    "    \"The Great Gatsby\": [\"Love\", \"Wealth\", \"American Dream\"],\n",
    "    \"To Kill a Mockingbird\": [\"Justice\", \"Coming of Age\", \"Morality\"],\n",
    "    \"1984\": [\"Totalitarianism\", \"Freedom\", \"Identity\"],\n",
    "    \"Pride and Prejudice\": [\"Love\", \"Social Class\", \"Marriage\"],\n",
    "    \"Lord of the Flies\": [\"Survival\", \"Power\", \"Morality\"],\n",
    "    \"Brave New World\": [\"Freedom\", \"Technology\", \"Identity\"],\n",
    "    \"The Catcher in the Rye\": [\"Coming of Age\", \"Identity\", \"Alienation\"],\n",
    "    \"Hamlet\": [\"Revenge\", \"Morality\", \"Power\"],\n",
    "    \"The Odyssey\": [\"Survival\", \"Journey\", \"Homecoming\"],\n",
    "    \"Jane Eyre\": [\"Love\", \"Social Class\", \"Identity\"]\n",
    "}\n",
    "from collections import Counter\n",
    "def most(bookdict):\n",
    "    theme = [theme for themeset in bookdict.values() for theme in themeset]\n",
    "    count = Counter(theme)\n",
    "    tup = [(b,a) for a,b in count.items()]\n",
    "    tup_sorted = sorted(tup,reverse= True)\n",
    "    print(tup_sorted)\n",
    "    return tup_sorted[0][1]\n",
    "most(book)"
   ]
  },
  {
   "cell_type": "markdown",
   "metadata": {},
   "source": [
    "### Given a list of meetings with the hours they started and ended at (as numbers from 1 to 24), and the size of their audience, return the largest total number of people that attended meetings simultaneously, across a continuous period of time.\n",
    "Example: [\n",
    " Meeting(title = \"The Age of Fiction\",audience = 10, start = 1, end = 4),\n",
    " Meeting(title = \"Audiobook Publishing\", audience = 20, start = 3, end = 8),\n",
    " Meeting(title = \"National Novel Month\", audience = 30, start = 5, end = 8),\n",
    " ] \\\n",
    "Result: 50 \\\n",
    "Explanation: The largest number of people attended between 5:00 and 8:00,\n",
    "when the last two meetings were taking place at the same time."
   ]
  },
  {
   "cell_type": "code",
   "execution_count": 112,
   "metadata": {},
   "outputs": [
    {
     "name": "stdout",
     "output_type": "stream",
     "text": [
      "Title: Morning Keynote\t\tAudience: 150\tStart: 9\tEnd: 11\n",
      "Title: AI in Publishing\t\tAudience: 80\tStart: 10\tEnd: 12\n",
      "Title: Lunch Workshop\t\tAudience: 45\tStart: 12\tEnd: 13\n",
      "Title: Digital Marketing Trends\t\tAudience: 100\tStart: 11\tEnd: 14\n",
      "Title: Writer's Panel\t\tAudience: 120\tStart: 13\tEnd: 15\n",
      "Title: Book Cover Design\t\tAudience: 60\tStart: 14\tEnd: 16\n",
      "Title: Author Signing\t\tAudience: 200\tStart: 15\tEnd: 17\n",
      "Title: Industry Networking\t\tAudience: 175\tStart: 16\tEnd: 18\n",
      "Title: Closing Remarks\t\tAudience: 230\tStart: 18\tEnd: 19\n"
     ]
    }
   ],
   "source": [
    "class Meeting:\n",
    "    def __init__(self, title, audience, start, end):\n",
    "        self.title = title\n",
    "        self.audience = audience\n",
    "        self.start = start\n",
    "        self.end = end\n",
    " \n",
    "    def __str__(self):\n",
    "        return f\"Title: {self.title}\\t\\tAudience: {self.audience}\\tStart: {self.start}\\tEnd: {self.end}\"\n",
    "\n",
    "# Define the list of meetings outside the class\n",
    "meetings = [\n",
    "    Meeting(title=\"Morning Keynote\", audience=150, start=9, end=11),\n",
    "    Meeting(title=\"AI in Publishing\", audience=80, start=10, end=12),\n",
    "    Meeting(title=\"Lunch Workshop\", audience=45, start=12, end=13),\n",
    "    Meeting(title=\"Digital Marketing Trends\", audience=100, start=11, end=14),\n",
    "    Meeting(title=\"Writer's Panel\", audience=120, start=13, end=15),\n",
    "    Meeting(title=\"Book Cover Design\", audience=60, start=14, end=16),\n",
    "    Meeting(title=\"Author Signing\", audience=200, start=15, end=17),\n",
    "    Meeting(title=\"Industry Networking\", audience=175, start=16, end=18),\n",
    "    Meeting(title=\"Closing Remarks\", audience=230, start=18, end=19)\n",
    "]\n",
    "\n",
    "# Example usage: Print all meetings\n",
    "for meeting in meetings:\n",
    "    print(meeting)\n"
   ]
  },
  {
   "cell_type": "code",
   "execution_count": 110,
   "metadata": {},
   "outputs": [
    {
     "name": "stdout",
     "output_type": "stream",
     "text": [
      "[[9, 150], [10, 80], [11, -150], [11, 100], [12, -80], [12, 45], [13, -45], [13, 120], [14, -100], [14, 60], [15, -120], [15, 200], [16, -60], [16, 175], [17, -200], [18, -175], [18, 230], [19, -230]]\n",
      "375\n"
     ]
    }
   ],
   "source": [
    "def max_audience(meetings):\n",
    "    ## use the SQL table method:\n",
    "    events = []\n",
    "    for i in meetings:\n",
    "        events.append([i.start,i.audience])\n",
    "        events.append([i.end,-i.audience])\n",
    "    events.sort()\n",
    "    print(events)\n",
    "    current_au = 0\n",
    "    max_au = 0\n",
    "    for time, audience in events:\n",
    "        current_au += audience\n",
    "        max_au = max(max_au, current_au)\n",
    "    return max_au\n",
    "\n",
    "print(max_audience(meetings))"
   ]
  },
  {
   "cell_type": "markdown",
   "metadata": {},
   "source": [
    "### 给定一个list shelves; [2, 4, 3, 6], value 表示对应层数的shelf 的width，然后给定一个list of books: [3, 1，2], value对应的是书的厚度，求是否可以把所有的书都放到shelves上， True or False\n",
    "### given the maximum book size that each shelf can store (also known as its capacity) and the size of each book, determine if all the books can fit on the shelves. Assume that only one book can be placed on each shelf."
   ]
  },
  {
   "cell_type": "code",
   "execution_count": 65,
   "metadata": {},
   "outputs": [
    {
     "data": {
      "text/plain": [
       "True"
      ]
     },
     "execution_count": 65,
     "metadata": {},
     "output_type": "execute_result"
    }
   ],
   "source": [
    "shelf = [2,4,3,6,10]\n",
    "book = [3,1,2,6,9]\n",
    "\n",
    "def fit(shelf,book):\n",
    "    shelf.sort()\n",
    "    book.sort()\n",
    "    s = len(shelf)\n",
    "    b = len(book)\n",
    "    i = 0\n",
    "    j = 0\n",
    "    count = 0\n",
    "    while i <s and j < b:\n",
    "        if shelf[i]>=book[j]:\n",
    "            i +=1\n",
    "            j +=1\n",
    "            count +=1\n",
    "        else:\n",
    "            i +=1\n",
    "    return True if count >= b else False\n",
    "fit(shelf,book)"
   ]
  },
  {
   "cell_type": "code",
   "execution_count": 77,
   "metadata": {},
   "outputs": [
    {
     "name": "stdout",
     "output_type": "stream",
     "text": [
      "1\n",
      "2\n",
      "3\n",
      "4\n",
      "5\n",
      "6\n"
     ]
    },
    {
     "data": {
      "text/plain": [
       "True"
      ]
     },
     "execution_count": 77,
     "metadata": {},
     "output_type": "execute_result"
    }
   ],
   "source": [
    "### what if multiple books can fit on one shelf?\n",
    "shelf = [2,4,3,6,10]\n",
    "book = [3,1,2,6,2,1]\n",
    "\n",
    "def fit(shelf,book):\n",
    "    s = len(shelf)\n",
    "    b = len(book)\n",
    "    shelf.sort()\n",
    "    book.sort()\n",
    "    i = 0\n",
    "    j = 0\n",
    "    while i < s:\n",
    "        cur = 0\n",
    "        while j < b:\n",
    "            if cur + book[j] <= shelf[i]:\n",
    "                cur += book[j]\n",
    "                j += 1\n",
    "            else: \n",
    "                break\n",
    "        i += 1\n",
    "    return True if j >= b else False\n",
    "fit(shelf,book)"
   ]
  },
  {
   "cell_type": "markdown",
   "metadata": {},
   "source": [
    "### Get the max numbers of books you can buy"
   ]
  },
  {
   "cell_type": "code",
   "execution_count": 60,
   "metadata": {},
   "outputs": [
    {
     "data": {
      "text/plain": [
       "4"
      ]
     },
     "execution_count": 60,
     "metadata": {},
     "output_type": "execute_result"
    }
   ],
   "source": [
    "prices = [12,15,5,30,79,50]\n",
    "budget = 110\n",
    "del maxbooks\n",
    "def maxbooks(prices,budget):\n",
    "    prices.sort()\n",
    "    count = 0\n",
    "    total = 0\n",
    "    for i in prices:\n",
    "        if total + i <= budget:\n",
    "            count += 1\n",
    "            total += i\n",
    "        else:\n",
    "            return count\n",
    "    return count\n",
    "maxbooks(prices,budget)\n",
    "        "
   ]
  },
  {
   "cell_type": "markdown",
   "metadata": {},
   "source": [
    "### Given a dictionary where keys are years and values are customer counts, find the maximum customer count sum of for any **two consecutive years**"
   ]
  },
  {
   "cell_type": "code",
   "execution_count": 128,
   "metadata": {},
   "outputs": [],
   "source": [
    "customers_by_year = {\n",
    "   2020: 150,\n",
    "    2019: 100,\n",
    "    2021: 200,\n",
    "    2018: 120,\n",
    "     2016:100,\n",
    "    2023:1000}\n"
   ]
  },
  {
   "cell_type": "code",
   "execution_count": 110,
   "metadata": {},
   "outputs": [
    {
     "name": "stdout",
     "output_type": "stream",
     "text": [
      "350\n"
     ]
    }
   ],
   "source": [
    "def maxsum(cus):\n",
    "    # Store all years in a set for O(1) lookup\n",
    "    years = set(cus.keys())\n",
    "    maxcnt = 0\n",
    "    for year , count in cus.items():\n",
    "        if year + 1 in years:\n",
    "            maxcnt = max(maxcnt,count + cus[year+1])\n",
    "    return maxcnt\n",
    "print(maxsum(customers_by_year))  # Output: 350\n"
   ]
  },
  {
   "cell_type": "markdown",
   "metadata": {},
   "source": [
    "### You are given a list of tuples, where each tuple contains two elements: (price, sales). Each tuple represents a book, where 'price' is the price of the book and 'sales' is the number of copies sold. Your task is to implement a function that returns the nth most purchased book. If there is a tie in the number of sales, return the book with the lowest price among the tied books."
   ]
  },
  {
   "cell_type": "code",
   "execution_count": null,
   "metadata": {},
   "outputs": [],
   "source": [
    "books = [\n",
    "    (10.99, 150),   # Book 1: $10.99, 150 copies sold\n",
    "    (15.50, 85),    # Book 2: $15.50, 85 copies sold\n",
    "    (8.25, 240),    # Book 3: $8.25, 240 copies sold\n",
    "    (12.00, 130),   # Book 4: $12.00, 130 copies sold\n",
    "    (20.00, 85),\n",
    "    (18.00, 85),# Book 5: $20.00, 60 copies sold\n",
    "    (5.99, 310),    # Book 6: $5.99, 310 copies sold\n",
    "]\n",
    "n = 5\n",
    "def most(arr,n):\n",
    "    # Sort by sales (descending), then price (ascending)\n",
    "    sorted_arr = sorted(arr,key = lambda x : (-x[1],x[0]))\n",
    "    print(sorted_arr)\n",
    "    return sorted_arr[n-1]\n",
    "most(books,n)\n",
    "\n",
    "# lambda x: (-x[1], x[0])\n",
    "# This is a lambda function, which is just a shorthand for defining small anonymous functions. Here’s what it does:\n",
    "\n",
    "# x is each element in the books list — in this case, each element is a tuple like (10.99, 150).\n",
    "\n",
    "# x[1] is the second element of the tuple (i.e., sales).\n",
    "\n",
    "# x[0] is the first element of the tuple (i.e., price).\n"
   ]
  },
  {
   "cell_type": "markdown",
   "metadata": {},
   "source": [
    "### Given a list of book names, found the derivative books\n",
    "### ['python','python 2nd edition', 'greed tree', 'greed tree 2nd edition'] -> ['python 2nd edition', 'greed tree 2nd edition']"
   ]
  },
  {
   "cell_type": "code",
   "execution_count": 132,
   "metadata": {},
   "outputs": [],
   "source": [
    "books = [\n",
    "    'python',\n",
    "    'python 2nd edition',\n",
    "    'greed tree',\n",
    "    'greed tree 2nd edition',\n",
    "    'machine learning',\n",
    "    'machine learning 3rd edition',\n",
    "    'deep learning',\n",
    "    'deep learning advanced topics',\n",
    "    'deep learning ABCD',\n",
    "    'data science',\n",
    "    'data science beginner guide',\n",
    "    'data science 2nd edition',\n",
    "    'data science advanced guide',\n",
    "    'art of war',\n",
    "    'art of war revised version',\n",
    "    'introduction to ai',\n",
    "    'introduction to ai 2',\n",
    "]"
   ]
  },
  {
   "cell_type": "code",
   "execution_count": 158,
   "metadata": {},
   "outputs": [
    {
     "data": {
      "text/plain": [
       "['art of war revised version',\n",
       " 'data science 2nd edition',\n",
       " 'data science advanced guide',\n",
       " 'data science beginner guide',\n",
       " 'deep learning advanced topics',\n",
       " 'greed tree 2nd edition',\n",
       " 'machine learning 3rd edition',\n",
       " 'python 2nd edition']"
      ]
     },
     "execution_count": 158,
     "metadata": {},
     "output_type": "execute_result"
    }
   ],
   "source": [
    "## using stack\n",
    "def deri(books):\n",
    "    books.sort()\n",
    "    stack  = []\n",
    "    lst = []\n",
    "    stack.append(books[0])\n",
    "    for book in books[1:]:\n",
    "        if book.startswith(stack[-1]):\n",
    "            lst.append(book)\n",
    "        else:\n",
    "            stack.append(book)\n",
    "    return lst\n",
    "deri(books)"
   ]
  },
  {
   "cell_type": "markdown",
   "metadata": {},
   "source": [
    "### You have a dictionary - key is a string and values are list of str. You need to find the most frequently occurring str across all lists/values."
   ]
  },
  {
   "cell_type": "code",
   "execution_count": 6,
   "metadata": {},
   "outputs": [],
   "source": [
    "data = {\n",
    "    \"fiction\": [\"the hobbit\", \"harry potter\", \"the hobbit\", \"dune\"],\n",
    "    \"non-fiction\": [\"sapiens\", \"educated\", \"harry potter\", \"the hobbit\"],\n",
    "    \"sci-fi\": [\"dune\", \"foundation\", \"dune\", \"harry potter\"],\n",
    "    \"fantasy\": [\"the hobbit\", \"harry potter\", \"the name of the wind\"]\n",
    "}"
   ]
  },
  {
   "cell_type": "code",
   "execution_count": 12,
   "metadata": {},
   "outputs": [
    {
     "data": {
      "text/plain": [
       "'the hobbit'"
      ]
     },
     "execution_count": 12,
     "metadata": {},
     "output_type": "execute_result"
    }
   ],
   "source": [
    "def most(data):\n",
    "    lst = [string for strings in data.values() for string in strings ]\n",
    "    from collections import Counter\n",
    "    count = Counter(lst)\n",
    "    return count.most_common(1)[0][0]\n",
    "    # maxcnt = max(count.values())\n",
    "    # return [key for key in count.keys() if count[key]==maxcnt]\n",
    "most(data)\n"
   ]
  },
  {
   "cell_type": "markdown",
   "metadata": {},
   "source": [
    "### Write a function to return the number of times a character appears in a string. The string could be empty."
   ]
  },
  {
   "cell_type": "code",
   "execution_count": null,
   "metadata": {},
   "outputs": [],
   "source": [
    "string = 'asrertinfff'\n",
    "letter = 'f'\n",
    "def counter(string, letter):\n",
    "    count = 0\n",
    "    if len(string) ==0 or letter not in string:\n",
    "        return count\n",
    "    else:\n",
    "        for char in string:\n",
    "            if char == letter:\n",
    "                count += 1              \n",
    "    return count\n",
    "counter(string,letter)"
   ]
  },
  {
   "cell_type": "markdown",
   "metadata": {},
   "source": [
    "### Problem: Friendship Reshare Spread (BFS)\n",
    "You are given:\n",
    "\n",
    "A friendship matrix matrix, where matrix[i][j] == 1 means user i and user j are friends.\n",
    "An integer user representing the person who made the original post.\n",
    "An integer depth D, representing the maximum number of reshare levels (depth) allowed.\n",
    "Each user can reshare the post only once. A reshare can only happen if it is from a friend who has already shared it and the depth does not exceed D.\n",
    "Write a function that returns the total number of times the post is reshared (excluding the original post). Use BFS to simulate the reshare spread.\n",
    "\n",
    "Example:\n",
    "``` python\n",
    "matrix = [\n",
    "    [0, 0, 1],\n",
    "    [0, 0, 1],\n",
    "    [1, 1, 0]\n",
    "]\n",
    "user = 0\n",
    "depth = 2\n",
    "```\n",
    "User 0 posts (depth 0)\\\n",
    "User 2 is a friend of 0 → reshares (depth 1)\\\n",
    "User 2 has friends 0 and 1 → only user 1 hasn't shared yet → reshares (depth 2)\\\n",
    "Total reshares: 2 (user 2 and user 1)"
   ]
  },
  {
   "cell_type": "code",
   "execution_count": null,
   "metadata": {},
   "outputs": [],
   "source": [
    "matrix = [\n",
    "    [0, 0, 1,1],\n",
    "    [0, 0, 1, 0],\n",
    "    [1, 1, 0, 0],\n",
    "    [1, 0, 0,0]\n",
    "]\n",
    "user = 0\n",
    "depth = 5"
   ]
  },
  {
   "cell_type": "code",
   "execution_count": null,
   "metadata": {},
   "outputs": [],
   "source": [
    "## Breadth-First Search (BFS)\n",
    "# BFS Approach:\n",
    "# Use a queue to process users level by level (depth by depth).\n",
    "# Track visited users in a set so no one reshares more than once.\n",
    "# Start with the original user at depth = 0 and spread from there.\n",
    "# Stop spreading when depth > D."
   ]
  },
  {
   "cell_type": "code",
   "execution_count": null,
   "metadata": {},
   "outputs": [],
   "source": [
    "from collections import deque\n",
    "\n",
    "def count_reshares(matrix, user, max_depth):\n",
    "    n = len(matrix)  # Get the number of users in the network\n",
    "    visited = set([user])  # Track visited users, starting with original poster\n",
    "    queue = deque([(user, 0)])  # Queue of (user, depth) pairs for BFS traversal\n",
    "    reshares = 0  # Counter for total reshares\n",
    "    \n",
    "    while queue:\n",
    "        current, depth = queue.popleft()  # Get next user and their depth\n",
    "        \n",
    "        if depth == max_depth:\n",
    "            continue  # Skip processing if we've reached maximum depth\n",
    "        \n",
    "        for friend in range(n):  # Check all potential connections\n",
    "            # If there's a connection (1) and friend hasn't seen the post yet\n",
    "            if matrix[current][friend] == 1 and friend not in visited:\n",
    "                visited.add(friend)  # Mark as visited\n",
    "                queue.append((friend, depth + 1))  # Add to queue with increased depth\n",
    "                reshares += 1  # Increment reshare count\n",
    "    \n",
    "    return reshares\n",
    "\n",
    "count_reshares(matrix,user,depth)"
   ]
  },
  {
   "cell_type": "markdown",
   "metadata": {},
   "source": [
    "### Valid IPv4\n",
    "Write a function to determine if a given string is a valid IPv4 address.\n",
    "\n",
    "An IPv4 address is a string in the format \"x.x.x.x\", where:\n",
    "\n",
    "Each x is a number from 0 to 255 (inclusive),\n",
    "\n",
    "Leading zeros are not allowed (e.g., \"01\" is invalid, but \"1\" is valid),\n",
    "\n",
    "Each x must be a numeric string with no extra characters (e.g., no spaces, letters, or symbols),\n",
    "\n",
    "There must be exactly four parts separated by dots."
   ]
  },
  {
   "cell_type": "markdown",
   "metadata": {},
   "source": [
    "```\n",
    "is_valid_ipv4(\"192.168.1.1\")        # True\n",
    "is_valid_ipv4(\"0.0.0.0\")            # True\n",
    "is_valid_ipv4(\"255.255.255.255\")    # True\n",
    "is_valid_ipv4(\"256.100.100.100\")    # False (256 is out of range)\n",
    "is_valid_ipv4(\"192.168.01.1\")       # False (leading zero in 01)\n",
    "is_valid_ipv4(\"192.168.1\")          # False (only 3 parts)\n",
    "is_valid_ipv4(\"192.168.1.1.1\")      # False (5 parts)\n",
    "is_valid_ipv4(\"192.168.1.a\")        # False (contains letter)\n",
    "```"
   ]
  },
  {
   "cell_type": "code",
   "execution_count": 18,
   "metadata": {},
   "outputs": [
    {
     "data": {
      "text/plain": [
       "True"
      ]
     },
     "execution_count": 18,
     "metadata": {},
     "output_type": "execute_result"
    }
   ],
   "source": [
    "def validip(ip):\n",
    "    lst = ip.split('.')\n",
    "    n = len(lst)\n",
    "    if n != 4:\n",
    "        return False\n",
    "    else:\n",
    "        for i in lst:\n",
    "            if not i.isnumeric():\n",
    "                return False\n",
    "            elif int(i) <0 or int(i) > 255:\n",
    "                return False\n",
    "            elif i != '0' and i.startswith('0'):\n",
    "                return False\n",
    "    return True\n",
    "validip(\"0.0.0.10\")"
   ]
  },
  {
   "cell_type": "markdown",
   "metadata": {},
   "source": [
    "### Average Word Length"
   ]
  },
  {
   "cell_type": "code",
   "execution_count": null,
   "metadata": {},
   "outputs": [],
   "source": [
    "def average(string):\n",
    "    strlist = string.split(\" \")\n",
    "    lenlist = [len(i) for i in strlist]\n",
    "    return sum(lenlist)/len(lenlist)\n",
    "average(\"hello world!!\")"
   ]
  },
  {
   "cell_type": "markdown",
   "metadata": {},
   "source": [
    "### Closet Distance\n",
    "Problem Statement:\n",
    "Given an array of points where each point is represented as [x, y], and an integer k, return the k closest points to the origin. The distance between two points (x1, y1) and (x2, y2) is calculated using the Euclidean distance formula: sqrt((x2 - x1)^2 + (y2 - y1)^2). However, for comparison purposes, the square root operation can be omitted, as the relative distances remain consistent.\n",
    "```\n",
    "Input: points = [[1,3],[-2,2]], k = 1\n",
    "Output: [[-2,2]]\n",
    "Explanation: The distance of (1, 3) from the origin is sqrt(10), and the distance of (-2, 2) is sqrt(8). Since sqrt(8) < sqrt(10), (-2, 2) is closer to the origin.\n",
    "```"
   ]
  },
  {
   "cell_type": "code",
   "execution_count": null,
   "metadata": {},
   "outputs": [],
   "source": [
    "points = [[1,3],[-2,2],[0,1],[9,2],[-1,1]]\n",
    "k = 2\n",
    "def closet(points,k):\n",
    "    distance = []\n",
    "    for i in range(len(points)):\n",
    "        a = points[i][0]\n",
    "        b = points[i][1]\n",
    "        distance.append([a**2+b**2,points[i]])\n",
    "    distance.sort()\n",
    "    print(distance)\n",
    "    return distance[k-1][1]\n",
    "closet(points,k)"
   ]
  },
  {
   "cell_type": "markdown",
   "metadata": {},
   "source": [
    "### Count friends\n",
    "Given a list of friendship pairs representing connections between individuals, the task is to count the number of friends each individual has. Each pair [a, b] indicates a mutual friendship between person a and person b.\n",
    "```\n",
    "N = 4  # Number of individuals\n",
    "friendships = [\n",
    "    [1, 2],\n",
    "    [2, 3],\n",
    "    [4, 2]\n",
    "]\n",
    "\n",
    "```"
   ]
  },
  {
   "cell_type": "code",
   "execution_count": null,
   "metadata": {},
   "outputs": [],
   "source": [
    "### but there is a shorter solution:\n",
    "### basically if a person's friend count is the count of their appearances. \n",
    "###if 1 only appeared then it only has one friend"
   ]
  },
  {
   "cell_type": "code",
   "execution_count": null,
   "metadata": {},
   "outputs": [],
   "source": [
    "from collections import Counter\n",
    "def count(friends):\n",
    "    flat = [person for pair in friends for person in pair ]\n",
    "    return dict(Counter(flat))\n",
    "count(friendships)"
   ]
  },
  {
   "cell_type": "markdown",
   "metadata": {},
   "source": [
    "#### Count Friends V2: some people could have zero friends"
   ]
  },
  {
   "cell_type": "code",
   "execution_count": 168,
   "metadata": {},
   "outputs": [
    {
     "data": {
      "text/plain": [
       "{1: 1, 2: 3, 3: 1, 4: 2, 5: 1, 6: 0}"
      ]
     },
     "execution_count": 168,
     "metadata": {},
     "output_type": "execute_result"
    }
   ],
   "source": [
    "friendships = [\n",
    "    [1, 2],\n",
    "    [2, 3],\n",
    "    [4, 2],\n",
    "    [4, 5],\n",
    "    [6]\n",
    "]\n",
    "def countf(friendships):\n",
    "    fcount = {}\n",
    "    for pair in friendships:\n",
    "        if len (pair) ==1:\n",
    "            fcount[pair[0]] = 0\n",
    "        else:\n",
    "            fcount[pair[0]] = fcount.get(pair[0],0) + 1\n",
    "            fcount[pair[1]] = fcount.get(pair[1],0) + 1\n",
    "    return fcount\n",
    "countf(friendships)"
   ]
  },
  {
   "cell_type": "markdown",
   "metadata": {},
   "source": [
    "### Flatten array\n",
    "Problem Statement:\n",
    "\n",
    "Given a nested array, write a function that returns a new array with all nested elements extracted into a single, flat array. The original array should remain unmodified.\n",
    "Example:\n",
    "\n",
    "Input: [1, [2, [3, 4], 5], 6]\n",
    "Output: [1, 2, 3, 4, 5, 6]"
   ]
  },
  {
   "cell_type": "code",
   "execution_count": null,
   "metadata": {},
   "outputs": [],
   "source": [
    "def flatten_recursive(nested_list):\n",
    "    flattened_list = []  # Initialize empty result list\n",
    "    for element in nested_list:  # Iterate through each element in the input list\n",
    "        if isinstance(element, list):  # Check if the current element is itself a list\n",
    "            flattened_list.extend(flatten_recursive(element))  # Recursively flatten the nested list and add its elements\n",
    "        ## extend() is a list method that adds each element of an iterable\n",
    "        ##(like a list, tuple, or string) to the end of another list. basically list1 += list2`b\n",
    "        \n",
    "        else:\n",
    "            flattened_list.append(element)  # Add non-list elements directly to the result\n",
    "    return flattened_list  # Return the completely flattened list"
   ]
  },
  {
   "cell_type": "markdown",
   "metadata": {},
   "source": [
    "### Count Substrings"
   ]
  },
  {
   "cell_type": "code",
   "execution_count": 288,
   "metadata": {},
   "outputs": [
    {
     "data": {
      "text/plain": [
       "3"
      ]
     },
     "execution_count": 288,
     "metadata": {},
     "output_type": "execute_result"
    }
   ],
   "source": [
    "main = \"aaaa\"\n",
    "sub = \"aa\"\n",
    "def countsub(main,sub):\n",
    "    n = len(main)\n",
    "    k = len(sub)\n",
    "    if k > n:\n",
    "        return False\n",
    "    else:\n",
    "        count = 0\n",
    "        for i in range(n-k+1):\n",
    "            if main[i:i+k] == sub:\n",
    "                count += 1\n",
    "        return count\n",
    "countsub(main,sub)"
   ]
  },
  {
   "cell_type": "markdown",
   "metadata": {},
   "source": [
    "### Binary String Addition"
   ]
  },
  {
   "cell_type": "code",
   "execution_count": 176,
   "metadata": {},
   "outputs": [
    {
     "data": {
      "text/plain": [
       "'111100'"
      ]
     },
     "execution_count": 176,
     "metadata": {},
     "output_type": "execute_result"
    }
   ],
   "source": [
    "a  = '110101'\n",
    "b = '0111'\n",
    "def biadd(a,b):\n",
    "    inta = int(a,2)\n",
    "    intb = int(b,2)\n",
    "    return format(inta+intb, 'b')\n",
    "biadd(a,b)"
   ]
  },
  {
   "cell_type": "markdown",
   "metadata": {},
   "source": [
    "### Unusual Sort\n",
    "Given an array of integers, rearrange the elements so that they alternate between odd and even numbers. The order within the odd and even numbers should be preserved from the original array. If there are extra odd or even numbers that cannot be paired, they should be placed at the end of the array.​\n",
    "\n",
    "Example:\n",
    "\n",
    "Input: [3, 8, 5, 13, 6, 12, 7]​\n",
    "\n",
    "Output: [3, 8, 5, 6, 13, 12, 7]"
   ]
  },
  {
   "cell_type": "code",
   "execution_count": 20,
   "metadata": {},
   "outputs": [
    {
     "data": {
      "text/plain": [
       "[3, 8, 5, 6, 13, 12, 7, 4, 3, 8, 5, 8, 9, 8, 9]"
      ]
     },
     "execution_count": 20,
     "metadata": {},
     "output_type": "execute_result"
    }
   ],
   "source": [
    "inputlist = [3, 8, 5, 13, 6, 12, 7,4,8,8,3,5,8,9,9]\n",
    "def unusualsort(arr):\n",
    "    even = [a for a in arr if a%2 ==0]\n",
    "    odd = [a for a in arr if a%2 != 0]\n",
    "    newlist = []\n",
    "    n = len(odd)\n",
    "    k = len(even)\n",
    "    for i in range(n):\n",
    "        if i < k:\n",
    "            newlist.append(odd[i])\n",
    "            newlist.append(even[i])\n",
    "        else:\n",
    "            newlist.append(odd[i])\n",
    "    if k > n:\n",
    "        newlist.extend(even[n,k+1])\n",
    "    return newlist\n",
    "unusualsort(inputlist)"
   ]
  },
  {
   "cell_type": "markdown",
   "metadata": {},
   "source": [
    "### Sum of Unique Numbers with Incrementation\n",
    "Given:\n",
    "An array of integers nums.\n",
    "\n",
    "Goal:\n",
    "Modify the array so that all numbers are unique by increasing duplicates as little as possible (you can increment a number by 1 any number of times). Then return the sum of the resulting unique numbers."
   ]
  },
  {
   "cell_type": "code",
   "execution_count": 306,
   "metadata": {},
   "outputs": [
    {
     "data": {
      "text/plain": [
       "(119, [1, 2, 3, 4, 5, 7, 9, 88])"
      ]
     },
     "execution_count": 306,
     "metadata": {},
     "output_type": "execute_result"
    }
   ],
   "source": [
    "example = [3, 2, 1, 2, 1, 7,9,88]\n",
    "\n",
    "def uniquesort(lst):\n",
    "    lst.sort()\n",
    "    for i in range(1,len(lst)):\n",
    "        while lst[i] <= lst[i-1]:\n",
    "            lst[i] += 1\n",
    "    return sum(lst),lst\n",
    "uniquesort(example)\n"
   ]
  },
  {
   "cell_type": "markdown",
   "metadata": {},
   "source": [
    "### monotonic array\n",
    "\n",
    "Given an array of integers, we would like to determine whether the array is monotonic (non-decreasing/non-increasing) or not. Examples:\n",
    " // 1 2 5 5 8 \n",
    "// true \n",
    "// 9 4 4 2 2 \n",
    "// true \n",
    "// 1 4 6 3 \n",
    "// false  \n",
    "//1 1 1 1 1 1\n",
    "// true"
   ]
  },
  {
   "cell_type": "code",
   "execution_count": null,
   "metadata": {},
   "outputs": [],
   "source": [
    "def is_monotonic(nums):\n",
    "    # Check if the array has 0 or 1 elements\n",
    "    if len(nums) <= 1:\n",
    "        return True\n",
    "    \n",
    "    # Check if the array is non-decreasing\n",
    "    is_non_decreasing = True\n",
    "    # Check if the array is non-increasing\n",
    "    is_non_increasing = True\n",
    "    \n",
    "    for i in range(1, len(nums)):\n",
    "        if nums[i] < nums[i-1]:\n",
    "            is_non_decreasing = False\n",
    "        if nums[i] > nums[i-1]:\n",
    "            is_non_increasing = False\n",
    "            \n",
    "        # Early termination if neither condition holds\n",
    "        if not is_non_decreasing and not is_non_increasing:\n",
    "            return False\n",
    "    \n",
    "    # If we've gone through the entire array and at least one condition holds\n",
    "    return True"
   ]
  },
  {
   "cell_type": "markdown",
   "metadata": {},
   "source": [
    "### remove duplicate sublists from a list"
   ]
  },
  {
   "cell_type": "code",
   "execution_count": 89,
   "metadata": {},
   "outputs": [
    {
     "data": {
      "text/plain": [
       "([[1, 2], [2, 3], [1, 4], [1, 2, 3]],\n",
       " {frozenset({1, 2}): True,\n",
       "  frozenset({2, 3}): True,\n",
       "  frozenset({1, 4}): True,\n",
       "  frozenset({1, 2, 3}): True})"
      ]
     },
     "execution_count": 89,
     "metadata": {},
     "output_type": "execute_result"
    }
   ],
   "source": [
    "example = [[1,2],[2,1],[2,3],[3,2],[1,4],[1,2,3]]\n",
    "def remove(lst):\n",
    "    seen = {}\n",
    "    result = []\n",
    "    \n",
    "    for sublist in lst:\n",
    "        # Convert the sublist to a frozenset to ignore order\n",
    "        sublist_set = frozenset(sublist) ## you cant hash set, because set is mutable, you must use frozenset\n",
    "        # If we haven't seen this set before, add it to our result\n",
    "        if sublist_set not in seen:\n",
    "            seen[sublist_set] = True\n",
    "            result.append(sublist)\n",
    "    \n",
    "    return result,seen\n",
    "remove(example)"
   ]
  },
  {
   "cell_type": "markdown",
   "metadata": {},
   "source": [
    "### Uniform Integers\n",
    "A positive integer is considered uniform if all of its digits are equal. For example, 222 222 is uniform, while 223 223 is not. Given two positive integers A A and B B, determine the number of uniform integers between A A and B B, inclusive."
   ]
  },
  {
   "cell_type": "code",
   "execution_count": 356,
   "metadata": {},
   "outputs": [
    {
     "data": {
      "text/plain": [
       "18"
      ]
     },
     "execution_count": 356,
     "metadata": {},
     "output_type": "execute_result"
    }
   ],
   "source": [
    "# Define range boundaries\n",
    "a = 1\n",
    "b = 99\n",
    "\n",
    "def uniform(a,b):\n",
    "    def uni(num):\n",
    "        # Base case: if number is 0, return 0\n",
    "        if num == 0:\n",
    "            return 0\n",
    "        # Calculate number of digits in the input number\n",
    "        digit = len(str(num))\n",
    "        # Calculate uniform numbers with fewer digits than num\n",
    "        # For each digit d (1 to digit-1), there are 9 uniform numbers (1,2,...,9 repeated d times)\n",
    "        lower_digit_uni = 9 * (digit - 1)\n",
    "        # Calculate uniform numbers with same number of digits as num\n",
    "        # A uniform number has all digits the same, so we divide by a string of 1s of the same length\n",
    "        # This gives us how many complete uniform numbers exist up to num\n",
    "        same_digit_uni = num//int('1'*digit)\n",
    "        # Total uniform numbers is the sum of both calculations\n",
    "        total_uni = lower_digit_uni + same_digit_uni\n",
    "        return total_uni\n",
    "    \n",
    "    # We use uni(a-1) to exclude the lower bound\n",
    "    # For example, if we want uniform numbers from 5 to 10:\n",
    "    # uni(10) gives all uniform numbers from 1 to 10\n",
    "    # uni(4) gives all uniform numbers from 1 to 4\n",
    "    # So uni(10) - uni(4) gives uniform numbers from 5 to 10 inclusive\n",
    "    return uni(b) - uni(a-1)\n",
    "\n",
    "# Call the function with the defined range\n",
    "uniform(a,b)"
   ]
  },
  {
   "cell_type": "markdown",
   "metadata": {},
   "source": [
    "### Other questions on Glassdoor"
   ]
  },
  {
   "cell_type": "markdown",
   "metadata": {},
   "source": [
    "Sql task 1. Identify authors who have published at least 5 books. 2. Calculate the percentage of total sales completed on the same day the customer registered: (Same day sales * 100.0) / Total sales. 3. Find customers who purchased 3 or more books on both the first and last day of sales, excluding those with only one transaction.\n",
    "\n",
    "Answer question\n",
    "Question 2\n",
    "\n",
    "Python Tasks: 1. Calculate the average book price from a list of prices. 2. Determine the maximum number of unique books that can be bought, given an array of book prices and a budget (each book can be purchased only once). 3. From a given list of book titles, identify sequels (e.g., for an input like ['GOT', 'Troy', 'Batman', 'Batman Returns'], the output should be ['Batman Returns']).\n",
    "\n",
    "Write a python function which gets a dict of location, list of cities, and returns the name of the city that appears the most times\n",
    "\n",
    "Tree with exactly 2 child"
   ]
  },
  {
   "cell_type": "markdown",
   "metadata": {},
   "source": [
    "## Leetcode Problems"
   ]
  },
  {
   "cell_type": "markdown",
   "metadata": {},
   "source": [
    "### 190. Reverse Bits\n",
    "Given a integer, convert it to binary string, then reverse the string, and output the integer of that binary string"
   ]
  },
  {
   "cell_type": "code",
   "execution_count": 360,
   "metadata": {},
   "outputs": [
    {
     "data": {
      "text/plain": [
       "('1110000110100001101010101110100000010011', 969079973907)"
      ]
     },
     "execution_count": 360,
     "metadata": {},
     "output_type": "execute_result"
    }
   ],
   "source": [
    "n = 859384939911\n",
    "def rb(n):\n",
    "    string = format(n,\"032b\")\n",
    "    reverse = string[::-1]\n",
    "    decimal = int(reverse,2)\n",
    "    return reverse, decimal\n",
    "rb(n)\n",
    "\n",
    "# Bonus: Why format(n, '032b')?\n",
    "# format(n, 'b') gives binary without prefix: '1010'\n",
    "# '032b' pads it to 32 bits with leading zeros: '00000000000000000000000000001010'"
   ]
  },
  {
   "cell_type": "markdown",
   "metadata": {},
   "source": [
    "#### What about Hex? hexadecimal"
   ]
  },
  {
   "cell_type": "code",
   "execution_count": null,
   "metadata": {},
   "outputs": [],
   "source": [
    "n = 40004444666\n",
    "print(hex(n)) \n",
    "print(int(hex(n),16)) ##convert back"
   ]
  },
  {
   "cell_type": "markdown",
   "metadata": {},
   "source": [
    "### 338. Counting Bits\n",
    "Given an integer n, return an array ans of length n + 1 such that for each i (0 <= i <= n), ans[i] is the number of 1's in the binary representation of i.\n"
   ]
  },
  {
   "cell_type": "code",
   "execution_count": 30,
   "metadata": {},
   "outputs": [
    {
     "data": {
      "text/plain": [
       "[0, 1, 1, 2, 1, 2, 2]"
      ]
     },
     "execution_count": 30,
     "metadata": {},
     "output_type": "execute_result"
    }
   ],
   "source": [
    "## dumb way to do it\n",
    "def countBits(n):\n",
    "    from collections import Counter\n",
    "    nums = range(0,n+1)\n",
    "    ans = []\n",
    "    for num in nums:\n",
    "        binary = format(num,'032b')\n",
    "        count = Counter(binary)\n",
    "        ans.append(count['1'])\n",
    "    return ans\n",
    "countBits(6)"
   ]
  },
  {
   "cell_type": "code",
   "execution_count": null,
   "metadata": {},
   "outputs": [],
   "source": [
    "def countBits(self, n: int) -> list[int]:\n",
    "    # Initialize an array to store the count of 1's in binary representation of each number from 0 to n\n",
    "    ans = [0] * (n + 1)\n",
    "    \n",
    "    # Iterate through numbers from 1 to n\n",
    "    for i in range(1, n + 1):\n",
    "        # For any number i, the count of 1's equals:\n",
    "        # - The count of 1's in i//2 (right shift by 1)\n",
    "        # - Plus 1 if i is odd (checking the least significant bit with i & 1)\n",
    "        ans[i] = ans[i // 2] + (i & 1)\n",
    "    \n",
    "    return ans\n",
    "\n",
    "# 🧠 What does i & 1 do?\n",
    "# It compares the last (least significant) bit of i with 1:\n",
    "\n",
    "# If i is odd, the last bit is 1, so i & 1 == 1\n",
    "\n",
    "# If i is even, the last bit is 0, so i & 1 == 0"
   ]
  },
  {
   "cell_type": "code",
   "execution_count": null,
   "metadata": {},
   "outputs": [],
   "source": [
    "print(2&1)"
   ]
  },
  {
   "cell_type": "markdown",
   "metadata": {},
   "source": [
    "### 125. Valid Palindrome String manipulations\n",
    "A phrase is a palindrome if, after converting all uppercase letters into lowercase letters and removing all non-alphanumeric characters, it reads the same forward and backward. Alphanumeric characters include letters and numbers.\n",
    "Given a string s, return true if it is a palindrome, or false otherwise."
   ]
  },
  {
   "cell_type": "code",
   "execution_count": null,
   "metadata": {},
   "outputs": [],
   "source": [
    "s = \"A man, a plan, a canal: Panama!a\"\n",
    "def pa(string):\n",
    "    s_lower = string.lower()\n",
    "    s_clean = ''.join([char for char in s_lower if char.isalnum()])\n",
    "    s_reverse = s_clean[::-1]\n",
    "    return True if s_clean == s_reverse else False\n",
    "pa(s)"
   ]
  },
  {
   "cell_type": "markdown",
   "metadata": {},
   "source": [
    "### 121. Best Time to Buy and Sell Stock\n",
    "You are given an array prices where prices[i] is the price of a given stock on the ith day.\n",
    "\n",
    "You want to maximize your profit by choosing a single day to buy one stock and choosing a different day in the future to sell that stock.\n",
    "\n",
    "Return the maximum profit you can achieve from this transaction. If you cannot achieve any profit, return 0."
   ]
  },
  {
   "cell_type": "code",
   "execution_count": 384,
   "metadata": {},
   "outputs": [
    {
     "data": {
      "text/plain": [
       "6"
      ]
     },
     "execution_count": 384,
     "metadata": {},
     "output_type": "execute_result"
    }
   ],
   "source": [
    "prices = [2,1,7]\n",
    "\n",
    "def best(arr):\n",
    "    start = arr[0]\n",
    "    maxi = 0\n",
    "    for i  in range(1,len(arr)):\n",
    "        if arr[i] < start:\n",
    "            start = arr[i]\n",
    "        else:\n",
    "            maxi = max(maxi,arr[i]- start)\n",
    "    return maxi \n",
    "best(prices)"
   ]
  },
  {
   "cell_type": "markdown",
   "metadata": {},
   "source": [
    "### 128. Longest Consecutive Sequence\n",
    "Given an unsorted array of integers nums, return the length of the longest consecutive elements sequence.\n",
    "You must write an algorithm that runs in O(n) time.\n"
   ]
  },
  {
   "cell_type": "code",
   "execution_count": null,
   "metadata": {},
   "outputs": [],
   "source": [
    "nums = [100,4,200,1,3,2]\n",
    "def longest(arr):\n",
    "    if len(arr) ==0:\n",
    "        return 0\n",
    "    arr = [i for i in set(arr)]\n",
    "    arr.sort()\n",
    "    maxlen = 1\n",
    "    count = 1\n",
    "    for i in range(1,len(arr)):\n",
    "        if arr[i] == arr[i-1] +1:\n",
    "            count +=1\n",
    "            maxlen = max(maxlen,count)\n",
    "        else:\n",
    "            count = 1\n",
    "    return maxlen\n",
    "longest(nums)"
   ]
  },
  {
   "cell_type": "markdown",
   "metadata": {},
   "source": [
    "### 3. Longest Substring Without Repeating Characters\n",
    "Given a string s, find the length of the longest substring without duplicate characters.\n"
   ]
  },
  {
   "cell_type": "code",
   "execution_count": 409,
   "metadata": {},
   "outputs": [
    {
     "data": {
      "text/plain": [
       "3"
      ]
     },
     "execution_count": 409,
     "metadata": {},
     "output_type": "execute_result"
    }
   ],
   "source": [
    "s = \"abcabcbb\"\n",
    "## using stack\n",
    "def longest(string):\n",
    "    maxlen = 1\n",
    "    s = set()\n",
    "    from collections import deque\n",
    "    que = deque()\n",
    "    for i in range(len(string)):\n",
    "        letter = string[i]\n",
    "        if letter not in s:\n",
    "            que.append(letter)\n",
    "            s.add(letter)\n",
    "            maxlen = max(maxlen,len(s))\n",
    "        else:\n",
    "            while letter in s:\n",
    "                remove = que.popleft()\n",
    "                s.remove(remove)\n",
    "    return maxlen\n",
    "longest(s)\n",
    "        "
   ]
  },
  {
   "cell_type": "markdown",
   "metadata": {},
   "source": [
    "### 139. Word Break"
   ]
  },
  {
   "cell_type": "code",
   "execution_count": 141,
   "metadata": {},
   "outputs": [
    {
     "data": {
      "text/plain": [
       "(False, [True, False, False, True, True, False, False, True, False, False])"
      ]
     },
     "execution_count": 141,
     "metadata": {},
     "output_type": "execute_result"
    }
   ],
   "source": [
    "## use dynamic programming to determine if a string can be segmented into words from a dictionary\n",
    "s = \"catsandog\"\n",
    "wordDict = [\"cats\",\"dog\",\"sand\",\"and\",\"cat\"]\n",
    "\n",
    "def wb(string, wdict):\n",
    "    # Convert word dictionary to a set for O(1) lookups\n",
    "    wset = set(wdict)\n",
    "    n = len(string)\n",
    "    ## we create a dp list \n",
    "    ## where dp[n] refers to the breakability true/false of the part of the string up to the (n+1)th element\n",
    "    dp = [False] * (n+1)\n",
    "    dp[0] = True ## if a string is empty, return true\n",
    "    \n",
    "    # Iterate through each position in the string\n",
    "    for i in range(1, n+1):\n",
    "        # Try each word in the dictionary\n",
    "        for word in wset:\n",
    "            wlen = len(word)\n",
    "            # Check if:\n",
    "            # 1. The word isn't longer than the current substring we're considering\n",
    "            # 2. The substring ending at position (i-wlen) can be segmented\n",
    "            # 3. The substring from (i-wlen) to i matches the current word\n",
    "            if wlen <= i and dp[i - wlen] == True and string[i-wlen:i] == word:\n",
    "                # If all conditions are met, the substring up to position i can be segmented\n",
    "                dp[i] = True\n",
    "                break\n",
    "    \n",
    "    # Return whether the entire string can be segmented\n",
    "    return dp[n], dp\n",
    "\n",
    "wb(s, wordDict)"
   ]
  },
  {
   "cell_type": "markdown",
   "metadata": {},
   "source": [
    "### 152. Maximum Product Subarray\n",
    "Given an integer array nums, find a subarray that has the largest product, and return the product.\n",
    "\n",
    "The test cases are generated so that the answer will fit in a 32-bit integer.\n",
    "\n",
    " \n",
    "\n",
    "Example 1:\n",
    "\n",
    "Input: nums = [2,3,-2,4]\n",
    "Output: 6\n",
    "Explanation: [2,3] has the largest product 6.\n",
    "Example 2:\n",
    "\n",
    "Input: nums = [-2,0,-1]\n",
    "Output: 0\n",
    "Explanation: The result cannot be 2, because [-2,-1] is not a subarray."
   ]
  },
  {
   "cell_type": "code",
   "execution_count": 148,
   "metadata": {},
   "outputs": [
    {
     "data": {
      "text/plain": [
       "8"
      ]
     },
     "execution_count": 148,
     "metadata": {},
     "output_type": "execute_result"
    }
   ],
   "source": [
    "nums = [2,3,-2,4]\n",
    "def maxp(arr):\n",
    "    i = 0\n",
    "    j = len(arr) - 1\n",
    "    m = 0\n",
    "    \n",
    "\n",
    "\n",
    "\n",
    "\n",
    "\n",
    "maxp(nums)"
   ]
  },
  {
   "cell_type": "markdown",
   "metadata": {},
   "source": [
    "### 5. Longest Palindromic Substring\n",
    "Given a string s, return the longest palindromic substring in s.\n",
    "\n",
    "Example 1:\n",
    "\n",
    "Input: s = \"babad\"\n",
    "Output: \"bab\"\n",
    "Explanation: \"aba\" is also a valid answer.\n",
    "Example 2:\n",
    "\n",
    "Input: s = \"cbbd\"\n",
    "Output: \"bb\""
   ]
  },
  {
   "cell_type": "code",
   "execution_count": 154,
   "metadata": {},
   "outputs": [
    {
     "data": {
      "text/plain": [
       "[(2, 'bb'), (3, 'aba'), (3, 'bab')]"
      ]
     },
     "execution_count": 154,
     "metadata": {},
     "output_type": "execute_result"
    }
   ],
   "source": [
    "def longest_palindromic_substring(s: str) -> str:\n",
    "    # Helper function to expand around the center and find the longest palindrome\n",
    "    def expand_around_center(left: int, right: int) -> str:\n",
    "        # Expand outward as long as the characters at left and right are equal\n",
    "        # and the indices are within bounds\n",
    "        while left >= 0 and right < len(s) and s[left] == s[right]:\n",
    "            left -= 1  # Move left pointer one step to the left\n",
    "            right += 1  # Move right pointer one step to the right\n",
    "        # Return the palindromic substring found within bounds\n",
    "        return s[left + 1:right]\n",
    "\n",
    "    # Variable to store the longest palindrome found so far\n",
    "    longest = \"\"\n",
    "    \n",
    "    # Iterate through each character in the string\n",
    "    for i in range(len(s)):\n",
    "        # Case 1: Odd-length palindrome (single character as the center)\n",
    "        odd_palindrome = expand_around_center(i, i)\n",
    "        \n",
    "        # Case 2: Even-length palindrome (two adjacent characters as the center)\n",
    "        even_palindrome = expand_around_center(i, i + 1)\n",
    "        \n",
    "        # Update the longest palindrome if a longer one is found\n",
    "        if len(odd_palindrome) > len(longest):\n",
    "            longest = odd_palindrome  # Update with odd-length palindrome\n",
    "        if len(even_palindrome) > len(longest):\n",
    "            longest = even_palindrome  # Update with even-length palindrome\n",
    "    \n",
    "    # Return the longest palindromic substring found\n",
    "    return longest\n",
    "\n",
    "# Example usage:\n",
    "s1 = \"babad\"\n",
    "s2 = \"cbbd\"\n",
    "print(longest_palindromic_substring(s1))  # Output: \"bab\" or \"aba\"\n",
    "print(longest_palindromic_substring(s2))  # Output: \"bb\"\n"
   ]
  },
  {
   "cell_type": "markdown",
   "metadata": {},
   "source": [
    "### 3. Longest Substring Without Repeating Characters\n",
    "\n",
    "Given a string s, find the length of the longest substring without duplicate characters.\n",
    "\n",
    " \n",
    "```\n",
    "Example 1:\n",
    "\n",
    "Input: s = \"abcabcbb\"\n",
    "Output: 3\n",
    "Explanation: The answer is \"abc\", with the length of 3.\n",
    "Example 2:\n",
    "\n",
    "Input: s = \"bbbbb\"\n",
    "Output: 1\n",
    "Explanation: The answer is \"b\", with the length of 1.\n",
    "Example 3:\n",
    "\n",
    "Input: s = \"pwwkew\"\n",
    "Output: 3\n",
    "Explanation: The answer is \"wke\", with the length of 3.\n",
    "Notice that the answer must be a substring, \"pwke\" is a subsequence and not a substring.\n",
    "```"
   ]
  },
  {
   "cell_type": "code",
   "execution_count": 44,
   "metadata": {},
   "outputs": [
    {
     "data": {
      "text/plain": [
       "3"
      ]
     },
     "execution_count": 44,
     "metadata": {},
     "output_type": "execute_result"
    }
   ],
   "source": [
    "s = \"ohmmo\"\n",
    "def longestsub(string):\n",
    "    # Get the length of the input string\n",
    "    n = len(string)\n",
    "    # Handle empty string case\n",
    "    if n == 0:\n",
    "        return 0\n",
    "    \n",
    "    # Initialize two pointers for sliding window approach\n",
    "    i = 0  # Left pointer of the window\n",
    "    j = 0  # Right pointer of the window\n",
    "    \n",
    "    # Initialize maximum length of substring without repeating characters\n",
    "    maxlen = 1\n",
    "    \n",
    "    # Set to store unique characters in current window\n",
    "    newset = set()\n",
    "    \n",
    "    # Iterate through the string with the right pointer\n",
    "    while j < n:\n",
    "        # If current character is not in the set (not a duplicate)\n",
    "        if string[j] not in newset:\n",
    "            # Add character to the set\n",
    "            newset.add(string[j])\n",
    "            # Update maximum length if current window is larger\n",
    "            maxlen = max(maxlen, len(newset))\n",
    "            # Move right pointer to next character\n",
    "            j += 1\n",
    "        else:\n",
    "            # If duplicate found, shrink window from left until duplicate is removed\n",
    "            while string[j] in newset:\n",
    "                # Remove leftmost character from set\n",
    "                newset.remove(string[i])\n",
    "                # Move left pointer to right\n",
    "                i += 1\n",
    "    \n",
    "    # Return the maximum length found\n",
    "    return maxlen\n",
    "\n",
    "longestsub(s)"
   ]
  },
  {
   "cell_type": "markdown",
   "metadata": {},
   "source": [
    "### 347. Top K Frequent Elements\n",
    "Medium\n",
    "Topics\n",
    "Companies\n",
    "Given an integer array nums and an integer k, return the k most frequent elements. You may return the answer in any order.\n"
   ]
  },
  {
   "cell_type": "code",
   "execution_count": 53,
   "metadata": {},
   "outputs": [
    {
     "data": {
      "text/plain": [
       "[1, 2]"
      ]
     },
     "execution_count": 53,
     "metadata": {},
     "output_type": "execute_result"
    }
   ],
   "source": [
    "nums = [1,1,1,2,2,3]\n",
    "k = 2\n",
    "def topk(nums,k):\n",
    "    from collections import Counter\n",
    "    count = dict(Counter(nums))\n",
    "    tup = [(a,b) for a,b in count.items()]\n",
    "    tup = sorted(tup, key = lambda x : (-x[1],x[0]))\n",
    "    final = [a for a,b in tup[:k]]\n",
    "    return final\n",
    "topk(nums,k)"
   ]
  },
  {
   "cell_type": "markdown",
   "metadata": {},
   "source": [
    "### 322. Coin Change\n",
    "You are given an integer array coins representing coins of different denominations and an integer amount representing a total amount of money.\n",
    "\n",
    "Return the fewest number of coins that you need to make up that amount. If that amount of money cannot be made up by any combination of the coins, return -1.\n",
    "\n",
    "You may assume that you have an infinite number of each kind of coin.\n",
    "\n",
    " \n",
    "\n",
    "Example 1:\n",
    "\n",
    "Input: coins = [1,2,5], amount = 11\n",
    "Output: 3\n",
    "Explanation: 11 = 5 + 5 + 1"
   ]
  },
  {
   "cell_type": "code",
   "execution_count": 72,
   "metadata": {},
   "outputs": [
    {
     "data": {
      "text/plain": [
       "3"
      ]
     },
     "execution_count": 72,
     "metadata": {},
     "output_type": "execute_result"
    }
   ],
   "source": [
    "def coin(arr, amt):\n",
    "    # Function to find minimum number of coins needed to make up the amount\n",
    "    # arr: array of coin denominations\n",
    "    # amt: target amount to make\n",
    "    \n",
    "    # Base case: if amount is 0, no coins needed\n",
    "    if amt == 0:\n",
    "        return 0\n",
    "    \n",
    "    # If amount is less than smallest coin, it's impossible\n",
    "    if amt < min(arr):\n",
    "        return -1\n",
    "    \n",
    "    # Initialize dp array of size amt+1\n",
    "    n = amt + 1\n",
    "    dp = [float('inf')] * n ## initilize dp, where dp[i] means the min coins needed to reach amt i\n",
    "    dp[0] = 0  # we need 0 step to reach amount 0\n",
    "    \n",
    "    # Dynamic programming approach to build solution\n",
    "    for num in arr:  # For each coin denomination\n",
    "        for i in range(num, n):  # For each amount starting from the coin value\n",
    "            # dp[i] = min(current solution, solution using current coin + 1)\n",
    "            dp[i] = min(dp[i], dp[i-num] + 1)\n",
    "    \n",
    "    # Return the result, -1 if impossible\n",
    "    return dp[amt] if dp[amt] < float('inf') else -1\n",
    "\n",
    "coins = [1, 2, 5]  # Available coin denominations\n",
    "amount = 11  # Target amount\n",
    "coin(coins, amount)  # Calculate minimum number of coins needed"
   ]
  },
  {
   "cell_type": "markdown",
   "metadata": {},
   "source": [
    "### 300. Longest Increasing Subsequence\n",
    "Given an integer array nums, return the length of the longest strictly increasing subsequence.\n",
    "\n",
    "Example 1:\n",
    "\n",
    "Input: nums = [10,9,2,5,3,7,101,18]\n",
    "Output: 4\n",
    "Explanation: The longest increasing subsequence is [2,3,7,101], therefore the length is 4."
   ]
  },
  {
   "cell_type": "code",
   "execution_count": 114,
   "metadata": {},
   "outputs": [
    {
     "data": {
      "text/plain": [
       "2"
      ]
     },
     "execution_count": 114,
     "metadata": {},
     "output_type": "execute_result"
    }
   ],
   "source": [
    "nums = [7,7,7,7,7,7,8]\n",
    "def longest(arr):\n",
    "    n = len(arr)\n",
    "    dp = [0] * len(arr)\n",
    "    dp [0] = 1\n",
    "    for i in range(1,n):\n",
    "        if arr[i]> arr[i-1]:\n",
    "            dp [i] = dp[i-1] +1\n",
    "        else:\n",
    "            dp [i] = dp[i-1]\n",
    "    return dp[-1]\n",
    "longest(nums)"
   ]
  },
  {
   "cell_type": "code",
   "execution_count": null,
   "metadata": {},
   "outputs": [],
   "source": []
  }
 ],
 "metadata": {
  "kernelspec": {
   "display_name": "base",
   "language": "python",
   "name": "python3"
  },
  "language_info": {
   "codemirror_mode": {
    "name": "ipython",
    "version": 3
   },
   "file_extension": ".py",
   "mimetype": "text/x-python",
   "name": "python",
   "nbconvert_exporter": "python",
   "pygments_lexer": "ipython3",
   "version": "3.12.7"
  }
 },
 "nbformat": 4,
 "nbformat_minor": 4
}
